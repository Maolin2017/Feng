{
 "cells": [
  {
   "cell_type": "code",
   "execution_count": null,
   "metadata": {},
   "outputs": [],
   "source": []
  },
  {
   "cell_type": "code",
   "execution_count": 5,
   "metadata": {},
   "outputs": [
    {
     "name": "stdout",
     "output_type": "stream",
     "text": [
      "[SOURCE]ing [UTILITIES] from /home/feng/repos/BrachyPhoton/util.sh\n"
     ]
    }
   ],
   "source": [
    "%%bash\n",
    ". $repos/BrachyPhoton/util.sh\n",
    "\n",
    "HERE=$PWD\n",
    "RunDIR=/home/feng/data/syno3_PW/ChIP-seq/Mapped_data/pipeline_chipseq_se/189C\n",
    "cd `dirname $RunDIR`\n",
    "uploadRun `basename $RunDIR` $HERE\n",
    "\n",
    "# RunDIR=/home/feng/data/syno3_PW/ChIP-seq/Mapped_data/pipeline_chipseq_se/186C\n",
    "# cd `dirname $RunDIR`\n",
    "# uploadRun `basename $RunDIR` $HERE\n",
    "\n",
    "# tree $HERE/bw/188C_RESEQ | head -5"
   ]
  },
  {
   "cell_type": "code",
   "execution_count": null,
   "metadata": {},
   "outputs": [],
   "source": []
  },
  {
   "cell_type": "code",
   "execution_count": 47,
   "metadata": {},
   "outputs": [
    {
     "name": "stdout",
     "output_type": "stream",
     "text": [
      "/home/feng/syno3/PW_HiSeq_data/ChIP-seq/Mapped_data/pipeline_chipseq_se/186C/S2/64-SD-ZT0-ELF3-OX_S2.bam\r\n",
      "/home/feng/syno3/PW_HiSeq_data/ChIP-seq/Mapped_data/pipeline_chipseq_se/186C/S5/64-SD-ZT4-ELF3-OX_S5.bam\r\n",
      "/home/feng/syno3/PW_HiSeq_data/ChIP-seq/Mapped_data/pipeline_chipseq_se/186C/S3/64-LL-ZT0-ELF3-OX_S3.bam\r\n",
      "/home/feng/syno3/PW_HiSeq_data/ChIP-seq/Mapped_data/pipeline_chipseq_se/186C/S4/64-LD-ZT4-ELF3-OX_S4.bam\r\n",
      "/home/feng/syno3/PW_HiSeq_data/ChIP-seq/Mapped_data/pipeline_chipseq_se/186C/S1/64-LD-ZT0-ELF3-OX_S1.bam\r\n",
      "/home/feng/syno3/PW_HiSeq_data/ChIP-seq/Mapped_data/pipeline_chipseq_se/186C/S7/64-LD-ZT20-ELF3OX_S7.bam\r\n",
      "/home/feng/syno3/PW_HiSeq_data/ChIP-seq/Mapped_data/pipeline_chipseq_se/186C/S6/66-LD-ZT4-PRR37OX_S6.bam\r\n",
      "/home/feng/syno3/PW_HiSeq_data/ChIP-seq/Mapped_data/pipeline_chipseq_se/186C/S9/phyC-OX-GFP-FLAG-Zt20-LD_S9.bam\r\n",
      "/home/feng/syno3/PW_HiSeq_data/ChIP-seq/Mapped_data/pipeline_chipseq_se/186C/S10/phyC-OX-GFP-FLAG-Zt20-LD_S10.bam\r\n",
      "/home/feng/syno3/PW_HiSeq_data/ChIP-seq/Mapped_data/pipeline_chipseq_se/186C/S8/64-SD-ZT20-ELF3OX_S8.bam\r\n",
      "/home/feng/syno3/PW_HiSeq_data/ChIP-seq/Mapped_data/pipeline_chipseq_se/186C/S22/INPUT-408_S22.bam"
     ]
    }
   ],
   "source": [
    "# ! cat index/18/bd.bam.index"
   ]
  },
  {
   "cell_type": "code",
   "execution_count": 1,
   "metadata": {},
   "outputs": [
    {
     "name": "stdout",
     "output_type": "stream",
     "text": [
      "/media/pw_synology3/PW_HiSeq_data/ChIP-seq/Mapped_data/pipeline_chipseq_se/189C/S16/1469-gELF3-myc-elf3-1xELF4-ox-ZT10-17C_S16.bam\n",
      "/media/pw_synology3/PW_HiSeq_data/ChIP-seq/Mapped_data/pipeline_chipseq_se/189C/S17/1469-gELF3-myc-elf3-1xELF4-ox-ZT10-27C_S17.bam\n",
      "/media/pw_synology3/PW_HiSeq_data/ChIP-seq/Mapped_data/pipeline_chipseq_se/189C/S14/4195-11-17C_S14.bam\n",
      "/media/pw_synology3/PW_HiSeq_data/ChIP-seq/Mapped_data/pipeline_chipseq_se/189C/S15/4195-11-27C_S15.bam\n",
      "/media/pw_synology3/PW_HiSeq_data/ChIP-seq/Mapped_data/pipeline_chipseq_se/189C/S10/gELF3myc-17C_S10.bam\n",
      "/media/pw_synology3/PW_HiSeq_data/ChIP-seq/Mapped_data/pipeline_chipseq_se/189C/S18/HDAC-22-4DAG_S18.bam\n",
      "/media/pw_synology3/PW_HiSeq_data/ChIP-seq/Mapped_data/pipeline_chipseq_se/189C/S12/4195-8-1-17C_S12.bam\n",
      "/media/pw_synology3/PW_HiSeq_data/ChIP-seq/Mapped_data/pipeline_chipseq_se/189C/S13/4195-8-1-27C_S13.bam\n",
      "/media/pw_synology3/PW_HiSeq_data/ChIP-seq/Mapped_data/pipeline_chipseq_se/189C/S19/HDAC-27-4DAG_S19.bam\n",
      "/media/pw_synology3/PW_HiSeq_data/ChIP-seq/Mapped_data/pipeline_chipseq_se/189C/S11/gELF3myc-27C_S11.bam\n",
      "/media/pw_synology3/PW_HiSeq_data/ChIP-seq/Mapped_data/pipeline_chipseq_se/189C/S1/pCAMTA2-22C-mock_S1.bam\n",
      "/media/pw_synology3/PW_HiSeq_data/ChIP-seq/Mapped_data/pipeline_chipseq_se/189C/S3/pCAMTA2-22C-cycloheximide_S3.bam\n",
      "/media/pw_synology3/PW_HiSeq_data/ChIP-seq/Mapped_data/pipeline_chipseq_se/189C/S2/pCAMTA2-mock_S2.bam\n",
      "/media/pw_synology3/PW_HiSeq_data/ChIP-seq/Mapped_data/pipeline_chipseq_se/189C/S6/pCAMTA3-22C-cycloheximide_S6.bam\n",
      "/media/pw_synology3/PW_HiSeq_data/ChIP-seq/Mapped_data/pipeline_chipseq_se/189C/S5/pCAMTA3-4C-mock_S5.bam\n",
      "/media/pw_synology3/PW_HiSeq_data/ChIP-seq/Mapped_data/pipeline_chipseq_se/189C/S4/pCAMTA3-22C-mock_S4.bam\n",
      "/media/pw_synology3/PW_HiSeq_data/ChIP-seq/Mapped_data/pipeline_chipseq_se/189C/S9/pICE1-ICE1-LD-22C-ZT0--22C-cycloheximide_S9.bam\n",
      "/media/pw_synology3/PW_HiSeq_data/ChIP-seq/Mapped_data/pipeline_chipseq_se/189C/S8/pICE1--ICE1-LD-22C-ZT0--4C-mock_S8.bam\n",
      "/media/pw_synology3/PW_HiSeq_data/ChIP-seq/Mapped_data/pipeline_chipseq_se/189C/S7/pICE1--ICE1-LD-22C-ZT0--22C-mock_S7.bam\n"
     ]
    }
   ],
   "source": [
    "%%bash\n",
    "mkdir -p index/189C\n",
    "find /media/pw_synology3/PW_HiSeq_data/ChIP-seq/Mapped_data/pipeline_chipseq_se/189C -name \"*.bam\" \\\n",
    "| tee index/189C/ath.bam.index"
   ]
  },
  {
   "cell_type": "code",
   "execution_count": 3,
   "metadata": {},
   "outputs": [
    {
     "name": "stdout",
     "output_type": "stream",
     "text": [
      "Script is being sourced\n",
      "$BASH_SOURCE /home/feng/envs/pipe/bin/activate\n",
      "/home/feng/envs/pipe/bin\n",
      "[SOURCE]ing [UTILITIES] from /home/feng/envs/pipe/bin/util.sh\n",
      "Adding /home/feng/envs/pipe to PATH\n",
      "[Test] GTF=/home/feng/ref/Arabidopsis_thaliana_TAIR10/annotation/genes.gtf\n",
      "[Test] GSIZE=/home/feng/ref/Arabidopsis_thaliana_TAIR10/genome.sizes\n",
      "[Test] FA_ADAPTER_SE=/home/Program_NGS_sl-pw-srv01/Trimmomatic-0.32/adapters/TruSeq3-SE.fa\n",
      "[Test] FA_ADAPTER_PE=/home/Program_NGS_sl-pw-srv01/Trimmomatic-0.32/adapters/TruSeq3-PE-2.fa\n",
      "[Test] REF=/home/feng/ref/Arabidopsis_thaliana_TAIR10\n",
      "[Test] IDX_BOWTIE2=/home/feng/ref/Arabidopsis_thaliana_TAIR10/sequence/Bowtie2Index/genome\n",
      "lrwxrwxrwx 1 feng feng 78 Jun  8 12:15 /home/feng/ref/Arabidopsis_thaliana_TAIR10/sequence/Bowtie2Index/genome.1.bt2 -> /home/ref_genew/Arabidopsis_thaliana_TAIR10/Sequence/Bowtie2Index/genome.1.bt2\n",
      "lrwxrwxrwx 1 feng feng 78 Jun  8 12:15 /home/feng/ref/Arabidopsis_thaliana_TAIR10/sequence/Bowtie2Index/genome.2.bt2 -> /home/ref_genew/Arabidopsis_thaliana_TAIR10/Sequence/Bowtie2Index/genome.2.bt2\n",
      "lrwxrwxrwx 1 feng feng 78 Jun  8 12:15 /home/feng/ref/Arabidopsis_thaliana_TAIR10/sequence/Bowtie2Index/genome.3.bt2 -> /home/ref_genew/Arabidopsis_thaliana_TAIR10/Sequence/Bowtie2Index/genome.3.bt2\n",
      "lrwxrwxrwx 1 feng feng 78 Jun  8 12:15 /home/feng/ref/Arabidopsis_thaliana_TAIR10/sequence/Bowtie2Index/genome.4.bt2 -> /home/ref_genew/Arabidopsis_thaliana_TAIR10/Sequence/Bowtie2Index/genome.4.bt2\n",
      "lrwxrwxrwx 1 feng feng 75 Jun  8 12:15 /home/feng/ref/Arabidopsis_thaliana_TAIR10/sequence/Bowtie2Index/genome.fa -> /home/ref_genew/Arabidopsis_thaliana_TAIR10/Sequence/Bowtie2Index/genome.fa\n",
      "lrwxrwxrwx 1 feng feng 79 Jun  8 12:15 /home/feng/ref/Arabidopsis_thaliana_TAIR10/sequence/Bowtie2Index/genome.fa.fai -> /home/ref_genew/Arabidopsis_thaliana_TAIR10/Sequence/Bowtie2Index/genome.fa.fai\n",
      "lrwxrwxrwx 1 feng feng 82 Jun  8 12:15 /home/feng/ref/Arabidopsis_thaliana_TAIR10/sequence/Bowtie2Index/genome.rev.1.bt2 -> /home/ref_genew/Arabidopsis_thaliana_TAIR10/Sequence/Bowtie2Index/genome.rev.1.bt2\n",
      "lrwxrwxrwx 1 feng feng 82 Jun  8 12:15 /home/feng/ref/Arabidopsis_thaliana_TAIR10/sequence/Bowtie2Index/genome.rev.2.bt2 -> /home/ref_genew/Arabidopsis_thaliana_TAIR10/Sequence/Bowtie2Index/genome.rev.2.bt2\n",
      "[Test] IDX_HISAT2=/home/feng/ref/Arabidopsis_thaliana_TAIR10/sequence/HISAT2Index/at_hisat2index\n",
      "lrwxrwxrwx 1 feng feng 84 Jun  8 12:15 /home/feng/ref/Arabidopsis_thaliana_TAIR10/sequence/HISAT2Index/at_hisat2index.1.ht2 -> /home/ref_genew/Arabidopsis_thaliana_TAIR10/Sequence/HISATindex/at_hisat2index.1.ht2\n",
      "lrwxrwxrwx 1 feng feng 84 Jun  8 12:15 /home/feng/ref/Arabidopsis_thaliana_TAIR10/sequence/HISAT2Index/at_hisat2index.2.ht2 -> /home/ref_genew/Arabidopsis_thaliana_TAIR10/Sequence/HISATindex/at_hisat2index.2.ht2\n",
      "lrwxrwxrwx 1 feng feng 84 Jun  8 12:15 /home/feng/ref/Arabidopsis_thaliana_TAIR10/sequence/HISAT2Index/at_hisat2index.3.ht2 -> /home/ref_genew/Arabidopsis_thaliana_TAIR10/Sequence/HISATindex/at_hisat2index.3.ht2\n",
      "lrwxrwxrwx 1 feng feng 84 Jun  8 12:15 /home/feng/ref/Arabidopsis_thaliana_TAIR10/sequence/HISAT2Index/at_hisat2index.4.ht2 -> /home/ref_genew/Arabidopsis_thaliana_TAIR10/Sequence/HISATindex/at_hisat2index.4.ht2\n",
      "lrwxrwxrwx 1 feng feng 84 Jun  8 12:15 /home/feng/ref/Arabidopsis_thaliana_TAIR10/sequence/HISAT2Index/at_hisat2index.5.ht2 -> /home/ref_genew/Arabidopsis_thaliana_TAIR10/Sequence/HISATindex/at_hisat2index.5.ht2\n",
      "lrwxrwxrwx 1 feng feng 84 Jun  8 12:15 /home/feng/ref/Arabidopsis_thaliana_TAIR10/sequence/HISAT2Index/at_hisat2index.6.ht2 -> /home/ref_genew/Arabidopsis_thaliana_TAIR10/Sequence/HISATindex/at_hisat2index.6.ht2\n",
      "lrwxrwxrwx 1 feng feng 84 Jun  8 12:15 /home/feng/ref/Arabidopsis_thaliana_TAIR10/sequence/HISAT2Index/at_hisat2index.7.ht2 -> /home/ref_genew/Arabidopsis_thaliana_TAIR10/Sequence/HISATindex/at_hisat2index.7.ht2\n",
      "lrwxrwxrwx 1 feng feng 84 Jun  8 12:15 /home/feng/ref/Arabidopsis_thaliana_TAIR10/sequence/HISAT2Index/at_hisat2index.8.ht2 -> /home/ref_genew/Arabidopsis_thaliana_TAIR10/Sequence/HISATindex/at_hisat2index.8.ht2\n",
      "[Test] FA_GENOME=/home/feng/ref/Arabidopsis_thaliana_TAIR10/genome.fa\n",
      "[Test] GFF=/home/feng/ref/Arabidopsis_thaliana_TAIR10/annotation/TAIR10_GFF3_genes.gff\n",
      "19 ath.bam.index\n",
      "CHIPREF=/media/pw_synology3/PW_HiSeq_data/ChIP-seq/Mapped_data/176C/INPUT-379_S21/INPUT-379_S21_raw_bowtie2_TAIR10_ensembl_nomixed_sorted_rmdup_picard.bam\n",
      "/media/pw_synology3/PW_HiSeq_data/ChIP-seq/Mapped_data/pipeline_chipseq_se/189C/S14\n",
      "CHIPREF=/media/pw_synology3/PW_HiSeq_data/ChIP-seq/Mapped_data/176C/INPUT-379_S21/INPUT-379_S21_raw_bowtie2_TAIR10_ensembl_nomixed_sorted_rmdup_picard.bam\n",
      "/media/pw_synology3/PW_HiSeq_data/ChIP-seq/Mapped_data/pipeline_chipseq_se/189C/S10\n",
      "CHIPREF=/media/pw_synology3/PW_HiSeq_data/ChIP-seq/Mapped_data/176C/INPUT-379_S21/INPUT-379_S21_raw_bowtie2_TAIR10_ensembl_nomixed_sorted_rmdup_picard.bam\n",
      "/media/pw_synology3/PW_HiSeq_data/ChIP-seq/Mapped_data/pipeline_chipseq_se/189C/S18\n",
      "CHIPREF=/media/pw_synology3/PW_HiSeq_data/ChIP-seq/Mapped_data/176C/INPUT-379_S21/INPUT-379_S21_raw_bowtie2_TAIR10_ensembl_nomixed_sorted_rmdup_picard.bam\n",
      "/media/pw_synology3/PW_HiSeq_data/ChIP-seq/Mapped_data/pipeline_chipseq_se/189C/S16\n",
      "CHIPREF=/media/pw_synology3/PW_HiSeq_data/ChIP-seq/Mapped_data/176C/INPUT-379_S21/INPUT-379_S21_raw_bowtie2_TAIR10_ensembl_nomixed_sorted_rmdup_picard.bam\n",
      "/media/pw_synology3/PW_HiSeq_data/ChIP-seq/Mapped_data/pipeline_chipseq_se/189C/S15\n",
      "CHIPREF=/media/pw_synology3/PW_HiSeq_data/ChIP-seq/Mapped_data/176C/INPUT-379_S21/INPUT-379_S21_raw_bowtie2_TAIR10_ensembl_nomixed_sorted_rmdup_picard.bam\n",
      "/media/pw_synology3/PW_HiSeq_data/ChIP-seq/Mapped_data/pipeline_chipseq_se/189C/S17\n",
      "CHIPREF=/media/pw_synology3/PW_HiSeq_data/ChIP-seq/Mapped_data/176C/INPUT-379_S21/INPUT-379_S21_raw_bowtie2_TAIR10_ensembl_nomixed_sorted_rmdup_picard.bam\n",
      "/media/pw_synology3/PW_HiSeq_data/ChIP-seq/Mapped_data/pipeline_chipseq_se/189C/S11\n",
      "CHIPREF=/media/pw_synology3/PW_HiSeq_data/ChIP-seq/Mapped_data/176C/INPUT-379_S21/INPUT-379_S21_raw_bowtie2_TAIR10_ensembl_nomixed_sorted_rmdup_picard.bam\n",
      "/media/pw_synology3/PW_HiSeq_data/ChIP-seq/Mapped_data/pipeline_chipseq_se/189C/S12\n",
      "CHIPREF=/media/pw_synology3/PW_HiSeq_data/ChIP-seq/Mapped_data/176C/INPUT-379_S21/INPUT-379_S21_raw_bowtie2_TAIR10_ensembl_nomixed_sorted_rmdup_picard.bam\n",
      "/media/pw_synology3/PW_HiSeq_data/ChIP-seq/Mapped_data/pipeline_chipseq_se/189C/S13\n",
      "CHIPREF=/media/pw_synology3/PW_HiSeq_data/ChIP-seq/Mapped_data/176C/INPUT-379_S21/INPUT-379_S21_raw_bowtie2_TAIR10_ensembl_nomixed_sorted_rmdup_picard.bam\n",
      "/media/pw_synology3/PW_HiSeq_data/ChIP-seq/Mapped_data/pipeline_chipseq_se/189C/S19\n",
      "CHIPREF=/media/pw_synology3/PW_HiSeq_data/ChIP-seq/Mapped_data/176C/INPUT-379_S21/INPUT-379_S21_raw_bowtie2_TAIR10_ensembl_nomixed_sorted_rmdup_picard.bam\n",
      "/media/pw_synology3/PW_HiSeq_data/ChIP-seq/Mapped_data/pipeline_chipseq_se/189C/S3\n",
      "CHIPREF=/media/pw_synology3/PW_HiSeq_data/ChIP-seq/Mapped_data/176C/INPUT-379_S21/INPUT-379_S21_raw_bowtie2_TAIR10_ensembl_nomixed_sorted_rmdup_picard.bam\n",
      "/media/pw_synology3/PW_HiSeq_data/ChIP-seq/Mapped_data/pipeline_chipseq_se/189C/S1\n",
      "CHIPREF=/media/pw_synology3/PW_HiSeq_data/ChIP-seq/Mapped_data/176C/INPUT-379_S21/INPUT-379_S21_raw_bowtie2_TAIR10_ensembl_nomixed_sorted_rmdup_picard.bam\n",
      "/media/pw_synology3/PW_HiSeq_data/ChIP-seq/Mapped_data/pipeline_chipseq_se/189C/S2\n",
      "CHIPREF=/media/pw_synology3/PW_HiSeq_data/ChIP-seq/Mapped_data/176C/INPUT-379_S21/INPUT-379_S21_raw_bowtie2_TAIR10_ensembl_nomixed_sorted_rmdup_picard.bam\n",
      "/media/pw_synology3/PW_HiSeq_data/ChIP-seq/Mapped_data/pipeline_chipseq_se/189C/S5\n",
      "CHIPREF=/media/pw_synology3/PW_HiSeq_data/ChIP-seq/Mapped_data/176C/INPUT-379_S21/INPUT-379_S21_raw_bowtie2_TAIR10_ensembl_nomixed_sorted_rmdup_picard.bam\n",
      "/media/pw_synology3/PW_HiSeq_data/ChIP-seq/Mapped_data/pipeline_chipseq_se/189C/S6\n",
      "CHIPREF=/media/pw_synology3/PW_HiSeq_data/ChIP-seq/Mapped_data/176C/INPUT-379_S21/INPUT-379_S21_raw_bowtie2_TAIR10_ensembl_nomixed_sorted_rmdup_picard.bam\n",
      "/media/pw_synology3/PW_HiSeq_data/ChIP-seq/Mapped_data/pipeline_chipseq_se/189C/S4\n",
      "CHIPREF=/media/pw_synology3/PW_HiSeq_data/ChIP-seq/Mapped_data/176C/INPUT-379_S21/INPUT-379_S21_raw_bowtie2_TAIR10_ensembl_nomixed_sorted_rmdup_picard.bam\n",
      "/media/pw_synology3/PW_HiSeq_data/ChIP-seq/Mapped_data/pipeline_chipseq_se/189C/S9\n",
      "CHIPREF=/media/pw_synology3/PW_HiSeq_data/ChIP-seq/Mapped_data/176C/INPUT-379_S21/INPUT-379_S21_raw_bowtie2_TAIR10_ensembl_nomixed_sorted_rmdup_picard.bam\n",
      "/media/pw_synology3/PW_HiSeq_data/ChIP-seq/Mapped_data/pipeline_chipseq_se/189C/S8\n",
      "CHIPREF=/media/pw_synology3/PW_HiSeq_data/ChIP-seq/Mapped_data/176C/INPUT-379_S21/INPUT-379_S21_raw_bowtie2_TAIR10_ensembl_nomixed_sorted_rmdup_picard.bam\n",
      "/media/pw_synology3/PW_HiSeq_data/ChIP-seq/Mapped_data/pipeline_chipseq_se/189C/S7\n"
     ]
    }
   ],
   "source": [
    "%%bash\n",
    "# exit 0 \n",
    ". /home/feng/envs/pipe/bin/activate\n",
    ". config_Ath_TAIR10.sh\n",
    "\n",
    "NCORE=5\n",
    "# export CHIPREF=/media/pw_synology3/PW_HiSeq_data/ChIP-seq/Mapped_data/pipeline_chipseq_se/186C/\n",
    "# %config\n",
    "RUN=1\n",
    "[[ $RUN -eq 1 ]] && {\n",
    "    cd index/189C\n",
    "    INDEX=ath.bam.index\n",
    "    export CHIPREF=/media/pw_synology3/PW_HiSeq_data/ChIP-seq/Mapped_data/176C/INPUT-379_S21/INPUT-379_S21_raw_bowtie2_TAIR10_ensembl_nomixed_sorted_rmdup_picard.bam\n",
    "#     /media/pw_synology3/PW_HiSeq_data/ChIP-seq/Mapped_data/pipeline_chipseq_se/186C/S22/INPUT-408_S22.bam\n",
    "    wc -l $INDEX\n",
    "    parallel --gnu -j $NCORE inplace_callpeak.sh {} < $INDEX 2>&1 | tee $INDEX.callpeak.log\n",
    "}\n",
    "\n",
    "\n",
    "# RUN=1\n",
    "# [[ $RUN -eq 1 ]] && {\n",
    "#     . /home/feng/envs/pipe/bin/activate\n",
    "#     cd index/188C_RESEQ\n",
    "#     INDEX=bd.bam.index\n",
    "#     export CHIPREF=\\\n",
    "# /media/pw_synology3/PW_HiSeq_data/ChIP-seq/Mapped_data/pipeline_chipseq_pe/188C/S11/INPUT-408_S11.bam\n",
    "# #     export CHIPREF=/media/pw_synology3/PW_HiSeq_data/ChIP-seq/Mapped_data/pipeline_chipseq_pe/188C_RESEQ/S5/64-SD-ZT4-ELF3-OX-RERUN_S5.bam\n",
    "#     wc -l $INDEX\n",
    "#     parallel --gnu -j12 inplace_callpeak.sh {} < $INDEX 2>&1 | tee $INDEX.callpeak.log\n",
    "# }\n"
   ]
  },
  {
   "cell_type": "code",
   "execution_count": 6,
   "metadata": {},
   "outputs": [
    {
     "name": "stdout",
     "output_type": "stream",
     "text": [
      "npk\r\n",
      "└── 189C\r\n",
      "    ├── S1\r\n",
      "    │   └── pCAMTA2-22C-mock_S1_peaks.narrowPeak\r\n",
      "    ├── S10\r\n",
      "    │   └── gELF3myc-17C_S10_peaks.narrowPeak\r\n",
      "    ├── S12\r\n",
      "    │   └── 4195-8-1-17C_S12_peaks.narrowPeak\r\n",
      "    ├── S13\r\n",
      "    │   └── 4195-8-1-27C_S13_peaks.narrowPeak\r\n",
      "    ├── S15\r\n",
      "    │   └── 4195-11-27C_S15_peaks.narrowPeak\r\n",
      "    ├── S16\r\n",
      "    │   └── 1469-gELF3-myc-elf3-1xELF4-ox-ZT10-17C_S16_peaks.narrowPeak\r\n",
      "    ├── S17\r\n",
      "    │   └── 1469-gELF3-myc-elf3-1xELF4-ox-ZT10-27C_S17_peaks.narrowPeak\r\n",
      "    ├── S18\r\n",
      "    │   └── HDAC-22-4DAG_S18_peaks.narrowPeak\r\n",
      "    ├── S19\r\n",
      "    │   └── HDAC-27-4DAG_S19_peaks.narrowPeak\r\n",
      "    ├── S4\r\n",
      "    │   └── pCAMTA3-22C-mock_S4_peaks.narrowPeak\r\n",
      "    ├── S6\r\n",
      "    │   └── pCAMTA3-22C-cycloheximide_S6_peaks.narrowPeak\r\n",
      "    ├── S7\r\n",
      "    │   └── pICE1--ICE1-LD-22C-ZT0--22C-mock_S7_peaks.narrowPeak\r\n",
      "    └── S9\r\n",
      "        └── pICE1-ICE1-LD-22C-ZT0--22C-cycloheximide_S9_peaks.narrowPeak\r\n",
      "\r\n",
      "14 directories, 13 files\r\n"
     ]
    }
   ],
   "source": [
    "# ! rm npk/* -r\n",
    "!tree npk"
   ]
  },
  {
   "cell_type": "code",
   "execution_count": 9,
   "metadata": {},
   "outputs": [
    {
     "name": "stdout",
     "output_type": "stream",
     "text": [
      "[WARN] Cannot find file:key.gene\n",
      "[WARN] pymisca.vis_util cannot find network\n",
      "[WARN] pymisca.vis_util cannot find network\n",
      "[WARN] Cannot find file:key.gene\n"
     ]
    },
    {
     "name": "stderr",
     "output_type": "stream",
     "text": [
      "is in ipython: 1 \n",
      "is in ipython: 1 \n",
      "is in ipython: 1 \n"
     ]
    }
   ],
   "source": [
    "execfile('/home/feng/meta/header_0903.py')\n",
    "import synotil.dio as sdio; reload(sdio)\n",
    "import synotil.filterByCDS as main;reload(main)\n",
    "import synotil.util as sutil;reload(sutil)\n",
    "import pymisca.util as pyutil;reload(pyutil)\n",
    "%matplotlib inline\n",
    "NBDIR = '/home/feng/envs/CAMTA/'"
   ]
  },
  {
   "cell_type": "code",
   "execution_count": 11,
   "metadata": {},
   "outputs": [
    {
     "name": "stdout",
     "output_type": "stream",
     "text": [
      "('[tmp]:', 'pCAMTA3-22C-cycloheximide_S6_peaks_radius=1.tsv', 56384)\n"
     ]
    },
    {
     "name": "stderr",
     "output_type": "stream",
     "text": [
      "/home/feng/.local/lib/python2.7/site-packages/synotil/filterByCDS.py:56: DtypeWarning: Columns (0,10) have mixed types. Specify dtype option on import or set low_memory=False.\n",
      "  GSIZE=GSIZE,silent= 1 - verbose)\n"
     ]
    },
    {
     "name": "stdout",
     "output_type": "stream",
     "text": [
      "('[output]', 'type=closest_bed=pCAMTA3-22C-cycloheximide_S6_peaks_radius=1_feat=genes.gtf.cds.tsv', 55621)\n",
      "('[tmp]:', 'pICE1-ICE1-LD-22C-ZT0--22C-cycloheximide_S9_peaks_radius=1.tsv', 51541)\n",
      "('[output]', 'type=closest_bed=pICE1-ICE1-LD-22C-ZT0--22C-cycloheximide_S9_peaks_radius=1_feat=genes.gtf.cds.tsv', 49467)\n",
      "('[tmp]:', '4195-8-1-17C_S12_peaks_radius=1.tsv', 83742)\n",
      "('[output]', 'type=closest_bed=4195-8-1-17C_S12_peaks_radius=1_feat=genes.gtf.cds.tsv', 78269)\n",
      "('[tmp]:', 'HDAC-27-4DAG_S19_peaks_radius=1.tsv', 133863)\n",
      "('[output]', 'type=closest_bed=HDAC-27-4DAG_S19_peaks_radius=1_feat=genes.gtf.cds.tsv', 112363)\n",
      "('[tmp]:', 'pICE1--ICE1-LD-22C-ZT0--22C-mock_S7_peaks_radius=1.tsv', 65633)\n",
      "('[output]', 'type=closest_bed=pICE1--ICE1-LD-22C-ZT0--22C-mock_S7_peaks_radius=1_feat=genes.gtf.cds.tsv', 62777)\n",
      "('[tmp]:', 'gELF3myc-17C_S10_peaks_radius=1.tsv', 43472)\n",
      "('[output]', 'type=closest_bed=gELF3myc-17C_S10_peaks_radius=1_feat=genes.gtf.cds.tsv', 39015)\n",
      "('[tmp]:', '1469-gELF3-myc-elf3-1xELF4-ox-ZT10-17C_S16_peaks_radius=1.tsv', 63378)\n",
      "('[output]', 'type=closest_bed=1469-gELF3-myc-elf3-1xELF4-ox-ZT10-17C_S16_peaks_radius=1_feat=genes.gtf.cds.tsv', 57247)\n",
      "('[tmp]:', 'HDAC-22-4DAG_S18_peaks_radius=1.tsv', 247)\n",
      "('[output]', 'type=closest_bed=HDAC-22-4DAG_S18_peaks_radius=1_feat=genes.gtf.cds.tsv', 206)\n",
      "('[tmp]:', '4195-11-27C_S15_peaks_radius=1.tsv', 77000)\n",
      "('[output]', 'type=closest_bed=4195-11-27C_S15_peaks_radius=1_feat=genes.gtf.cds.tsv', 71745)\n",
      "('[tmp]:', 'pCAMTA3-22C-mock_S4_peaks_radius=1.tsv', 76625)\n",
      "('[output]', 'type=closest_bed=pCAMTA3-22C-mock_S4_peaks_radius=1_feat=genes.gtf.cds.tsv', 75837)\n",
      "('[tmp]:', '4195-8-1-27C_S13_peaks_radius=1.tsv', 68200)\n",
      "('[output]', 'type=closest_bed=4195-8-1-27C_S13_peaks_radius=1_feat=genes.gtf.cds.tsv', 64033)\n",
      "('[tmp]:', '1469-gELF3-myc-elf3-1xELF4-ox-ZT10-27C_S17_peaks_radius=1.tsv', 41138)\n",
      "('[output]', 'type=closest_bed=1469-gELF3-myc-elf3-1xELF4-ox-ZT10-27C_S17_peaks_radius=1_feat=genes.gtf.cds.tsv', 39156)\n",
      "('[tmp]:', 'pCAMTA2-22C-mock_S1_peaks_radius=1.tsv', 67273)\n",
      "('[output]', 'type=closest_bed=pCAMTA2-22C-mock_S1_peaks_radius=1_feat=genes.gtf.cds.tsv', 68875)\n"
     ]
    }
   ],
   "source": [
    "upStream = 3000\n",
    "downStream=500\n",
    "GSIZE = '/home/feng/ref/Arabidopsis_thaliana_TAIR10/genome.sizes'\n",
    "cdsFile = '/home/feng/ref/Arabidopsis_thaliana_TAIR10/annotation/genes.gtf.cds'\n",
    "\n",
    "pyutil.os.chdir(NBDIR)\n",
    "RunID = '189C'\n",
    "# RunID = '186C'\n",
    "lst = !find npk/{RunID}/ -type f | xargs readlink -f\n",
    "DIR = 'chipTarg/%s' % RunID\n",
    "\n",
    "!mkdir -p {DIR}\n",
    "pyutil.os.chdir(DIR)\n",
    "for qfile in lst:\n",
    "    try:\n",
    "        ofname = synotil.filterByCDS.main(peakFile=qfile,GSIZE=GSIZE,cdsFile=cdsFile,upStream=upStream,\n",
    "                                          downStream=downStream)\n",
    "    except:\n",
    "        print ('[FAILED] for %s' % qfile)\n",
    "        \n",
    "pyutil.os.chdir(NBDIR)"
   ]
  },
  {
   "cell_type": "code",
   "execution_count": 12,
   "metadata": {},
   "outputs": [
    {
     "name": "stderr",
     "output_type": "stream",
     "text": [
      "is in ipython: 1 \n",
      "/home/feng/.local/lib/python2.7/site-packages/ipykernel_launcher.py:7: DtypeWarning: Columns (0,10) have mixed types. Specify dtype option on import or set low_memory=False.\n",
      "  import sys\n"
     ]
    }
   ],
   "source": [
    "# ! ls chipTarg/153C\n",
    "reload(pyutil)\n",
    "pyutil.os.chdir(NBDIR)\n",
    "pyutil.os.chdir(DIR)\n",
    "\n",
    "fnames = ! ls *gtf.cds.tsv\n",
    "ofnames = map(lambda x:pyutil.firstByKey(x,keys = ['feat_acc','FC'],header=0),fnames)\n",
    "\n",
    "pyutil.os.chdir(NBDIR)"
   ]
  },
  {
   "cell_type": "code",
   "execution_count": 17,
   "metadata": {},
   "outputs": [
    {
     "name": "stdout",
     "output_type": "stream",
     "text": [
      "64-LD-ZT0-ELF3-OX-RERUN_S1_peaks_radius=1.tsv\r\n",
      "64-LD-ZT20-ELF3OX-RERUN_S7_peaks_radius=1.tsv\r\n",
      "64-LD-ZT4-ELF3-OX-RERUN_S4_peaks_radius=1.tsv\r\n",
      "64-LL-ZT0-ELF3-OX-RERUN_S3_peaks_radius=1.tsv\r\n",
      "64-SD-ZT0-ELF3-OX-RERUN_S2_peaks_radius=1.tsv\r\n",
      "64-SD-ZT20-ELF3OX-RERUN_S8_peaks_radius=1.tsv\r\n",
      "64-SD-ZT4-ELF3-OX-RERUN_S5_peaks_radius=1.tsv\r\n",
      "66-LD-ZT4-PRR37OX-RERUN_S6_peaks_radius=1.tsv\r\n",
      "Bdistachyon_314_v3.1.gene_exons.gtf.cds.promoter\r\n",
      "Bdistachyon_314_v3.1.gene_exons.gtf.cds.promoter.0\r\n",
      "phyC-OX-GFP-FLAG-Zt20-LD-RERUN_S10_peaks_radius=1.tsv\r\n",
      "phyC-OX-GFP-FLAG-Zt20-LD-RERUN_S9_peaks_radius=1.tsv\r\n",
      "type=closest_bed=64-LD-ZT0-ELF3-OX-RERUN_S1_peaks_radius=1_feat=Bdistachyon_314_v3.1.gene_exons.gtf.cds.tsv\r\n",
      "type=closest_bed=64-LD-ZT0-ELF3-OX-RERUN_S1_peaks_radius=1_feat=Bdistachyon_314_v3.1.gene_exons.gtf.cds.tsv.tmp\r\n",
      "type=closest_bed=64-LD-ZT0-ELF3-OX-RERUN_S1_peaks_radius=1_feat=Bdistachyon_314_v3.1.gene_exons.gtf.cds_type=firstByKey.tsv\r\n",
      "type=closest_bed=64-LD-ZT20-ELF3OX-RERUN_S7_peaks_radius=1_feat=Bdistachyon_314_v3.1.gene_exons.gtf.cds.tsv\r\n",
      "type=closest_bed=64-LD-ZT20-ELF3OX-RERUN_S7_peaks_radius=1_feat=Bdistachyon_314_v3.1.gene_exons.gtf.cds.tsv.tmp\r\n",
      "type=closest_bed=64-LD-ZT20-ELF3OX-RERUN_S7_peaks_radius=1_feat=Bdistachyon_314_v3.1.gene_exons.gtf.cds_type=firstByKey.tsv\r\n",
      "type=closest_bed=64-LD-ZT4-ELF3-OX-RERUN_S4_peaks_radius=1_feat=Bdistachyon_314_v3.1.gene_exons.gtf.cds.tsv\r\n",
      "type=closest_bed=64-LD-ZT4-ELF3-OX-RERUN_S4_peaks_radius=1_feat=Bdistachyon_314_v3.1.gene_exons.gtf.cds.tsv.tmp\r\n",
      "type=closest_bed=64-LD-ZT4-ELF3-OX-RERUN_S4_peaks_radius=1_feat=Bdistachyon_314_v3.1.gene_exons.gtf.cds_type=firstByKey.tsv\r\n",
      "type=closest_bed=64-LL-ZT0-ELF3-OX-RERUN_S3_peaks_radius=1_feat=Bdistachyon_314_v3.1.gene_exons.gtf.cds.tsv\r\n",
      "type=closest_bed=64-LL-ZT0-ELF3-OX-RERUN_S3_peaks_radius=1_feat=Bdistachyon_314_v3.1.gene_exons.gtf.cds.tsv.tmp\r\n",
      "type=closest_bed=64-LL-ZT0-ELF3-OX-RERUN_S3_peaks_radius=1_feat=Bdistachyon_314_v3.1.gene_exons.gtf.cds_type=firstByKey.tsv\r\n",
      "type=closest_bed=64-SD-ZT0-ELF3-OX-RERUN_S2_peaks_radius=1_feat=Bdistachyon_314_v3.1.gene_exons.gtf.cds.tsv\r\n",
      "type=closest_bed=64-SD-ZT0-ELF3-OX-RERUN_S2_peaks_radius=1_feat=Bdistachyon_314_v3.1.gene_exons.gtf.cds.tsv.tmp\r\n",
      "type=closest_bed=64-SD-ZT0-ELF3-OX-RERUN_S2_peaks_radius=1_feat=Bdistachyon_314_v3.1.gene_exons.gtf.cds_type=firstByKey.tsv\r\n",
      "type=closest_bed=64-SD-ZT20-ELF3OX-RERUN_S8_peaks_radius=1_feat=Bdistachyon_314_v3.1.gene_exons.gtf.cds.tsv\r\n",
      "type=closest_bed=64-SD-ZT20-ELF3OX-RERUN_S8_peaks_radius=1_feat=Bdistachyon_314_v3.1.gene_exons.gtf.cds.tsv.tmp\r\n",
      "type=closest_bed=64-SD-ZT20-ELF3OX-RERUN_S8_peaks_radius=1_feat=Bdistachyon_314_v3.1.gene_exons.gtf.cds_type=firstByKey.tsv\r\n",
      "type=closest_bed=64-SD-ZT4-ELF3-OX-RERUN_S5_peaks_radius=1_feat=Bdistachyon_314_v3.1.gene_exons.gtf.cds.tsv\r\n",
      "type=closest_bed=64-SD-ZT4-ELF3-OX-RERUN_S5_peaks_radius=1_feat=Bdistachyon_314_v3.1.gene_exons.gtf.cds.tsv.tmp\r\n",
      "type=closest_bed=64-SD-ZT4-ELF3-OX-RERUN_S5_peaks_radius=1_feat=Bdistachyon_314_v3.1.gene_exons.gtf.cds_type=firstByKey.tsv\r\n",
      "type=closest_bed=66-LD-ZT4-PRR37OX-RERUN_S6_peaks_radius=1_feat=Bdistachyon_314_v3.1.gene_exons.gtf.cds.tsv\r\n",
      "type=closest_bed=66-LD-ZT4-PRR37OX-RERUN_S6_peaks_radius=1_feat=Bdistachyon_314_v3.1.gene_exons.gtf.cds.tsv.tmp\r\n",
      "type=closest_bed=66-LD-ZT4-PRR37OX-RERUN_S6_peaks_radius=1_feat=Bdistachyon_314_v3.1.gene_exons.gtf.cds_type=firstByKey.tsv\r\n",
      "type=closest_bed=phyC-OX-GFP-FLAG-Zt20-LD-RERUN_S10_peaks_radius=1_feat=Bdistachyon_314_v3.1.gene_exons.gtf.cds.tsv\r\n",
      "type=closest_bed=phyC-OX-GFP-FLAG-Zt20-LD-RERUN_S10_peaks_radius=1_feat=Bdistachyon_314_v3.1.gene_exons.gtf.cds.tsv.tmp\r\n",
      "type=closest_bed=phyC-OX-GFP-FLAG-Zt20-LD-RERUN_S10_peaks_radius=1_feat=Bdistachyon_314_v3.1.gene_exons.gtf.cds_type=firstByKey.tsv\r\n",
      "type=closest_bed=phyC-OX-GFP-FLAG-Zt20-LD-RERUN_S9_peaks_radius=1_feat=Bdistachyon_314_v3.1.gene_exons.gtf.cds.tsv\r\n",
      "type=closest_bed=phyC-OX-GFP-FLAG-Zt20-LD-RERUN_S9_peaks_radius=1_feat=Bdistachyon_314_v3.1.gene_exons.gtf.cds.tsv.tmp\r\n",
      "type=closest_bed=phyC-OX-GFP-FLAG-Zt20-LD-RERUN_S9_peaks_radius=1_feat=Bdistachyon_314_v3.1.gene_exons.gtf.cds_type=firstByKey.tsv\r\n"
     ]
    }
   ],
   "source": [
    "! ls {DIR}"
   ]
  }
 ],
 "metadata": {
  "kernelspec": {
   "display_name": "Python 2",
   "language": "python",
   "name": "python2"
  },
  "language_info": {
   "codemirror_mode": {
    "name": "ipython",
    "version": 2
   },
   "file_extension": ".py",
   "mimetype": "text/x-python",
   "name": "python",
   "nbconvert_exporter": "python",
   "pygments_lexer": "ipython2",
   "version": "2.7.12"
  }
 },
 "nbformat": 4,
 "nbformat_minor": 2
}
