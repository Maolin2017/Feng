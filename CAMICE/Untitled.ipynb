{
 "cells": [
  {
   "cell_type": "code",
   "execution_count": 1,
   "metadata": {},
   "outputs": [
    {
     "name": "stdout",
     "output_type": "stream",
     "text": [
      "[CMD]pwd -L\n",
      "[BASE]=/home/feng/envs/CAMICE\n"
     ]
    },
    {
     "name": "stderr",
     "output_type": "stream",
     "text": [
      "/home/feng/.local/lib/python2.7/site-packages/pymisca/header.py:56: UserWarning: [WARN] variable $BASE not set,defaulting to PWD:/home/feng/envs/CAMICE\n",
      "  warnings.warn('[WARN] variable ${BASE} not set,defaulting to PWD:{PWD}'.format(**locals()))\n",
      "/home/feng/.local/lib/python2.7/site-packages/pymisca/header.py:10: UserWarning: [WARN] NUMPY is not limited cuz NCORE is not set\n",
      "  warnings.warn(\"[WARN] NUMPY is not limited cuz NCORE is not set\")\n",
      "is in ipython: 1 \n",
      "is in ipython: 1 \n",
      "is in ipython: 1 \n",
      "is in ipython: 1 \n"
     ]
    },
    {
     "name": "stdout",
     "output_type": "stream",
     "text": [
      "[WARN] Cannot find file:key.gene\n",
      "[WARN] Cannot find file:key.gene\n"
     ]
    }
   ],
   "source": [
    "#!/usr/bin/env python2\n",
    "import pymisca.header as pyheader\n",
    "pyheader.base__check()\n",
    "pyheader.execBaseFile('headers/header__import.py')\n",
    "figs = pyext.collections.OrderedDict()"
   ]
  },
  {
   "cell_type": "code",
   "execution_count": 3,
   "metadata": {},
   "outputs": [
    {
     "name": "stdout",
     "output_type": "stream",
     "text": [
      "[JOBCMD]/0501-poplar-chiptargpeak.py \n"
     ]
    },
    {
     "data": {
      "text/plain": [
       "u'/home/feng/.local/lib/python2.7/site-packages/pymisca/header.py:10: UserWarning: [WARN] NUMPY is not limited cuz NCORE is not set\\n  warnings.warn(\"[WARN] NUMPY is not limited cuz NCORE is not set\")\\nis in ipython: 0 \\nis in ipython: 0 \\n/home/feng/.local/lib/python2.7/site-packages/biograpy-1.0b0.dev0-py2.7.egg/biograpy/drawer.py:14: UserWarning:\\n\\n\\nThis call to matplotlib.use() has no effect because the backend has already\\nbeen chosen; matplotlib.use() must be called *before* pylab, matplotlib.pyplot,\\nor matplotlib.backends is imported for the first time.\\n\\nThe backend was *originally* set to \\'module://ipykernel.pylab.backend_inline\\' by the following code:\\n  File \"/home/feng/envs/CAMICE/.scripts/2019-05-01T00:25:24.127387/0501-poplar-chiptargpeak.py\", line 4, in <module>\\n    pyheader.execBaseFile(\\'headers/header__import.py\\')\\n  File \"/home/feng/.local/lib/python2.7/site-packages/pymisca/header.py\", line 104, in execBaseFile\\n    res = execfile(fname, g, g)\\n  File \"/home/feng/envs/CAMICE/headers/header__import.py\", line 8, in <module>\\n    import synotil.dio as sdio;reload(sdio)\\n  File \"/home/feng/.local/lib/python2.7/site-packages/synotil/dio.py\", line 3, in <module>\\n    import CountMatrix as scount\\n  File \"/home/feng/.local/lib/python2.7/site-packages/synotil/CountMatrix.py\", line 4, in <module>\\n    import pymisca.util as pyutil\\n  File \"/home/feng/.local/lib/python2.7/site-packages/pymisca/util.py\", line 16, in <module>\\n    import matplotlib.pyplot as plt\\n  File \"/home/feng/.local/lib/python2.7/site-packages/matplotlib/pyplot.py\", line 71, in <module>\\n    from matplotlib.backends import pylab_setup\\n  File \"/home/feng/.local/lib/python2.7/site-packages/matplotlib/backends/__init__.py\", line 16, in <module>\\n    line for line in traceback.format_stack()\\n\\n\\n\\nis in ipython: 0 \\nis in ipython: 0 \\n[BASE]=/home/feng/envs/CAMICE\\n[WARN] Cannot find file:key.gene\\n[WARN] Cannot find file:key.gene\\n[CMD]cat INPUT-poplar_S20_raw_bowtie2_PopTremAlba_nomixed_sorted_rmdup_picard_peaks_query=FC-GT-6dot000.tsv PtaLHY2-Potri014G106800--S24-166C-_S24_raw_bowtie2_PopTremAlba_nomixed_sorted_rmdup_picard_peaks_query=FC-GT-6dot000.tsv>174CS20-174CS24-combined.bed\\n[L] 10631\\n[L]= 100\\n[L]= 100\\n\\n [WARN] unable to simplify condName. Exception:list index out of range\\n(\\'val_174CS24-val_174CS20-GT-0dot7.csv\\', 10632)\\n[CMD]mkdir -p output/\\n[CMD]cat INPUT-poplar_S20_raw_bowtie2_PopTremAlba_nomixed_sorted_rmdup_picard_peaks_query=FC-GT-6dot000.tsv poplar-11_S24_raw_bowtie2_PopTremAlba_nomixed_sorted_rmdup_picard_peaks_query=FC-GT-6dot000.tsv>174CS20-166CS24-combined.bed\\n[L] 4136\\n[L]= 100\\n[L]= 100\\n\\n [WARN] unable to simplify condName. Exception:list index out of range\\n(\\'val_166CS24-val_174CS20-GT-0dot7.csv\\', 4137)\\n[CMD]mkdir -p output/\\n'"
      ]
     },
     "execution_count": 3,
     "metadata": {},
     "output_type": "execute_result"
    }
   ],
   "source": [
    "pyext.job__safeScriptCMD('0501-poplar/0501-poplar-chiptargpeak.py')"
   ]
  }
 ],
 "metadata": {
  "kernelspec": {
   "display_name": "Python 2",
   "language": "python",
   "name": "python2"
  },
  "language_info": {
   "codemirror_mode": {
    "name": "ipython",
    "version": 2
   },
   "file_extension": ".py",
   "mimetype": "text/x-python",
   "name": "python",
   "nbconvert_exporter": "python",
   "pygments_lexer": "ipython2",
   "version": "2.7.12"
  }
 },
 "nbformat": 4,
 "nbformat_minor": 2
}
