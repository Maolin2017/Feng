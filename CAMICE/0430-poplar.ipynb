{
 "cells": [
  {
   "cell_type": "code",
   "execution_count": 2,
   "metadata": {},
   "outputs": [
    {
     "name": "stdout",
     "output_type": "stream",
     "text": [
      "[CMD]pwd -L\n",
      "[BASE]=/home/feng/envs/CAMICE\n"
     ]
    },
    {
     "name": "stderr",
     "output_type": "stream",
     "text": [
      "/home/feng/.local/lib/python2.7/site-packages/pymisca/header.py:56: UserWarning: [WARN] variable $BASE not set,defaulting to PWD:/home/feng/envs/CAMICE\n",
      "  warnings.warn('[WARN] variable ${BASE} not set,defaulting to PWD:{PWD}'.format(**locals()))\n",
      "is in ipython: 1 \n"
     ]
    },
    {
     "name": "stdout",
     "output_type": "stream",
     "text": [
      "[WARN] Cannot find file:key.gene\n",
      "[WARN] Cannot find file:key.gene\n"
     ]
    },
    {
     "name": "stderr",
     "output_type": "stream",
     "text": [
      "is in ipython: 1 \n",
      "is in ipython: 1 \n",
      "is in ipython: 1 \n"
     ]
    }
   ],
   "source": [
    "import pymisca.ext as pyext\n",
    "pyext.base__check()\n",
    "pyext.execBaseFile('headers/header__import.py')"
   ]
  },
  {
   "cell_type": "code",
   "execution_count": 5,
   "metadata": {},
   "outputs": [],
   "source": [
    "! ln -s /home/feng/envs/upGeo/results upGeo-results"
   ]
  },
  {
   "cell_type": "code",
   "execution_count": 63,
   "metadata": {},
   "outputs": [],
   "source": [
    "mcurr = pyext.readBaseFile('upGeo-results/0407-database-mapped/mcurr.csv',guess_index=0)\n",
    "rnaCurr = pyext.readData('/home/feng/work/upGeo/0424-rnacurr-poplar-dapseq.tsv')"
   ]
  },
  {
   "cell_type": "code",
   "execution_count": 41,
   "metadata": {},
   "outputs": [
    {
     "data": {
      "text/html": [
       "<div>\n",
       "<style scoped>\n",
       "    .dataframe tbody tr th:only-of-type {\n",
       "        vertical-align: middle;\n",
       "    }\n",
       "\n",
       "    .dataframe tbody tr th {\n",
       "        vertical-align: top;\n",
       "    }\n",
       "\n",
       "    .dataframe thead th {\n",
       "        text-align: right;\n",
       "    }\n",
       "</style>\n",
       "<table border=\"1\" class=\"dataframe\">\n",
       "  <thead>\n",
       "    <tr style=\"text-align: right;\">\n",
       "      <th></th>\n",
       "      <th>controlAcc</th>\n",
       "      <th>template_name</th>\n",
       "      <th>sample_extraction_protocol_name</th>\n",
       "      <th>sample_processing_protocol_name</th>\n",
       "      <th>instrument</th>\n",
       "      <th>paired_end_or_single</th>\n",
       "      <th>bname</th>\n",
       "      <th>0</th>\n",
       "      <th>age</th>\n",
       "      <th>genotype</th>\n",
       "      <th>...</th>\n",
       "      <th>tissue</th>\n",
       "      <th>photoperiod</th>\n",
       "      <th>genome</th>\n",
       "      <th>cultivar</th>\n",
       "      <th>species</th>\n",
       "      <th>chip_antibody</th>\n",
       "      <th>location of file</th>\n",
       "      <th>narrowPeakFile</th>\n",
       "      <th>npkFile</th>\n",
       "      <th>bwFile</th>\n",
       "    </tr>\n",
       "    <tr>\n",
       "      <th>DATAACC</th>\n",
       "      <th></th>\n",
       "      <th></th>\n",
       "      <th></th>\n",
       "      <th></th>\n",
       "      <th></th>\n",
       "      <th></th>\n",
       "      <th></th>\n",
       "      <th></th>\n",
       "      <th></th>\n",
       "      <th></th>\n",
       "      <th></th>\n",
       "      <th></th>\n",
       "      <th></th>\n",
       "      <th></th>\n",
       "      <th></th>\n",
       "      <th></th>\n",
       "      <th></th>\n",
       "      <th></th>\n",
       "      <th></th>\n",
       "      <th></th>\n",
       "      <th></th>\n",
       "    </tr>\n",
       "  </thead>\n",
       "  <tbody>\n",
       "    <tr>\n",
       "      <th>166CS24</th>\n",
       "      <td>None</td>\n",
       "      <td>sample-common-dapseq-poplar</td>\n",
       "      <td>protocol-dapseq-poplar</td>\n",
       "      <td>processing-dapseq-se</td>\n",
       "      <td>NextSeq 500</td>\n",
       "      <td>single</td>\n",
       "      <td>poplar-11_S24</td>\n",
       "      <td>S24</td>\n",
       "      <td>na</td>\n",
       "      <td>na</td>\n",
       "      <td>...</td>\n",
       "      <td>na</td>\n",
       "      <td>na</td>\n",
       "      <td>sPta717-v1-1</td>\n",
       "      <td>Populus</td>\n",
       "      <td>txid80863</td>\n",
       "      <td>FLAG M2 agarose affinity gel antibody SIGMA A2220</td>\n",
       "      <td>smb://slcu.cam.ac.uk/data/TeamKJ/__backup/mapp...</td>\n",
       "      <td>/home/feng/writable/teamkj/__backup/mapped-dat...</td>\n",
       "      <td>/home/feng/writable/teamkj/__backup/mapped-dat...</td>\n",
       "      <td>NaN</td>\n",
       "    </tr>\n",
       "    <tr>\n",
       "      <th>174CS24</th>\n",
       "      <td>174CS20</td>\n",
       "      <td>sample-common-dapseq-poplar</td>\n",
       "      <td>protocol-dapseq-poplar</td>\n",
       "      <td>processing-dapseq-se</td>\n",
       "      <td>NextSeq 500</td>\n",
       "      <td>single</td>\n",
       "      <td>PtaLHY2-Potri014G106800--S24-166C-_S24</td>\n",
       "      <td>S24</td>\n",
       "      <td>na</td>\n",
       "      <td>na</td>\n",
       "      <td>...</td>\n",
       "      <td>na</td>\n",
       "      <td>na</td>\n",
       "      <td>sPta717-v1-1</td>\n",
       "      <td>NaN</td>\n",
       "      <td>txid80863</td>\n",
       "      <td>NaN</td>\n",
       "      <td>smb://slcu.cam.ac.uk/data/TeamKJ/__backup/mapp...</td>\n",
       "      <td>/home/feng/writable/teamkj/__backup/mapped-dat...</td>\n",
       "      <td>/home/feng/writable/teamkj/__backup/mapped-dat...</td>\n",
       "      <td>NaN</td>\n",
       "    </tr>\n",
       "    <tr>\n",
       "      <th>174CS20</th>\n",
       "      <td>174CS20</td>\n",
       "      <td>sample-common-dapseq-poplar</td>\n",
       "      <td>protocol-dapseq-poplar</td>\n",
       "      <td>processing-dapseq-se</td>\n",
       "      <td>NextSeq 500</td>\n",
       "      <td>single</td>\n",
       "      <td>INPUT</td>\n",
       "      <td>S20</td>\n",
       "      <td>na</td>\n",
       "      <td>na</td>\n",
       "      <td>...</td>\n",
       "      <td>na</td>\n",
       "      <td>na</td>\n",
       "      <td>sPta717-v1-1</td>\n",
       "      <td>Populus</td>\n",
       "      <td>txid80863</td>\n",
       "      <td>na</td>\n",
       "      <td>smb://slcu.cam.ac.uk/data/TeamKJ/__backup/mapp...</td>\n",
       "      <td>/home/feng/writable/teamkj/__backup/mapped-dat...</td>\n",
       "      <td>/home/feng/writable/teamkj/__backup/mapped-dat...</td>\n",
       "      <td>NaN</td>\n",
       "    </tr>\n",
       "    <tr>\n",
       "      <th>175CS6</th>\n",
       "      <td>175CS6</td>\n",
       "      <td>sample-common-dapseq-poplar</td>\n",
       "      <td>protocol-dapseq-poplar</td>\n",
       "      <td>processing-dapseq-se</td>\n",
       "      <td>NextSeq 500</td>\n",
       "      <td>single</td>\n",
       "      <td>INPUT</td>\n",
       "      <td>S6</td>\n",
       "      <td>na</td>\n",
       "      <td>na</td>\n",
       "      <td>...</td>\n",
       "      <td>na</td>\n",
       "      <td>na</td>\n",
       "      <td>sPta717-v1-1</td>\n",
       "      <td>Populus</td>\n",
       "      <td>txid80863</td>\n",
       "      <td>na</td>\n",
       "      <td>smb://slcu.cam.ac.uk/data/TeamKJ/__backup/mapp...</td>\n",
       "      <td>/home/feng/writable/teamkj/__backup/mapped-dat...</td>\n",
       "      <td>/home/feng/writable/teamkj/__backup/mapped-dat...</td>\n",
       "      <td>NaN</td>\n",
       "    </tr>\n",
       "  </tbody>\n",
       "</table>\n",
       "<p>4 rows × 22 columns</p>\n",
       "</div>"
      ],
      "text/plain": [
       "        controlAcc                template_name  \\\n",
       "DATAACC                                           \n",
       "166CS24       None  sample-common-dapseq-poplar   \n",
       "174CS24    174CS20  sample-common-dapseq-poplar   \n",
       "174CS20    174CS20  sample-common-dapseq-poplar   \n",
       "175CS6      175CS6  sample-common-dapseq-poplar   \n",
       "\n",
       "        sample_extraction_protocol_name sample_processing_protocol_name  \\\n",
       "DATAACC                                                                   \n",
       "166CS24          protocol-dapseq-poplar            processing-dapseq-se   \n",
       "174CS24          protocol-dapseq-poplar            processing-dapseq-se   \n",
       "174CS20          protocol-dapseq-poplar            processing-dapseq-se   \n",
       "175CS6           protocol-dapseq-poplar            processing-dapseq-se   \n",
       "\n",
       "          instrument paired_end_or_single  \\\n",
       "DATAACC                                     \n",
       "166CS24  NextSeq 500               single   \n",
       "174CS24  NextSeq 500               single   \n",
       "174CS20  NextSeq 500               single   \n",
       "175CS6   NextSeq 500               single   \n",
       "\n",
       "                                          bname    0 age genotype  ...    \\\n",
       "DATAACC                                                            ...     \n",
       "166CS24                           poplar-11_S24  S24  na       na  ...     \n",
       "174CS24  PtaLHY2-Potri014G106800--S24-166C-_S24  S24  na       na  ...     \n",
       "174CS20                                   INPUT  S20  na       na  ...     \n",
       "175CS6                                    INPUT   S6  na       na  ...     \n",
       "\n",
       "        tissue photoperiod        genome cultivar    species  \\\n",
       "DATAACC                                                        \n",
       "166CS24     na          na  sPta717-v1-1  Populus  txid80863   \n",
       "174CS24     na          na  sPta717-v1-1      NaN  txid80863   \n",
       "174CS20     na          na  sPta717-v1-1  Populus  txid80863   \n",
       "175CS6      na          na  sPta717-v1-1  Populus  txid80863   \n",
       "\n",
       "                                             chip_antibody  \\\n",
       "DATAACC                                                      \n",
       "166CS24  FLAG M2 agarose affinity gel antibody SIGMA A2220   \n",
       "174CS24                                                NaN   \n",
       "174CS20                                                 na   \n",
       "175CS6                                                  na   \n",
       "\n",
       "                                          location of file  \\\n",
       "DATAACC                                                      \n",
       "166CS24  smb://slcu.cam.ac.uk/data/TeamKJ/__backup/mapp...   \n",
       "174CS24  smb://slcu.cam.ac.uk/data/TeamKJ/__backup/mapp...   \n",
       "174CS20  smb://slcu.cam.ac.uk/data/TeamKJ/__backup/mapp...   \n",
       "175CS6   smb://slcu.cam.ac.uk/data/TeamKJ/__backup/mapp...   \n",
       "\n",
       "                                            narrowPeakFile  \\\n",
       "DATAACC                                                      \n",
       "166CS24  /home/feng/writable/teamkj/__backup/mapped-dat...   \n",
       "174CS24  /home/feng/writable/teamkj/__backup/mapped-dat...   \n",
       "174CS20  /home/feng/writable/teamkj/__backup/mapped-dat...   \n",
       "175CS6   /home/feng/writable/teamkj/__backup/mapped-dat...   \n",
       "\n",
       "                                                   npkFile bwFile  \n",
       "DATAACC                                                            \n",
       "166CS24  /home/feng/writable/teamkj/__backup/mapped-dat...    NaN  \n",
       "174CS24  /home/feng/writable/teamkj/__backup/mapped-dat...    NaN  \n",
       "174CS20  /home/feng/writable/teamkj/__backup/mapped-dat...    NaN  \n",
       "175CS6   /home/feng/writable/teamkj/__backup/mapped-dat...    NaN  \n",
       "\n",
       "[4 rows x 22 columns]"
      ]
     },
     "execution_count": 41,
     "metadata": {},
     "output_type": "execute_result"
    }
   ],
   "source": [
    "rnaCurr"
   ]
  },
  {
   "cell_type": "code",
   "execution_count": 50,
   "metadata": {},
   "outputs": [
    {
     "data": {
      "text/plain": [
       "DATAACC\n",
       "166CS24    NaN\n",
       "174CS24    NaN\n",
       "174CS20    NaN\n",
       "175CS6     NaN\n",
       "Name: RPKMFile, dtype: object"
      ]
     },
     "execution_count": 50,
     "metadata": {},
     "output_type": "execute_result"
    }
   ],
   "source": [
    "rnaCurr['RPKMFile']"
   ]
  },
  {
   "cell_type": "code",
   "execution_count": 57,
   "metadata": {},
   "outputs": [
    {
     "name": "stdout",
     "output_type": "stream",
     "text": [
      "168C-1298-ZT-8-22_S9\t\t  168C-DAP1_S12\t\t168C-Poplar-PCR2_S14\r\n",
      "168C-1298-ZT-8-27_S10\t\t  168C-DAP2_S21\t\t168C-Poplar-PCR3_S15\r\n",
      "168C-290-35SPIF4HA-22C_S3\t  168C-DAP3_S22\t\t168C-Poplar-PCR4_S16\r\n",
      "168C-291-35SPIF4HA-27C_S4\t  168C-DAP4_S23\t\t168C-Poplar-PCR5_S17\r\n",
      "168C-292-1294-22C-gGI-in-COL_S5   168C-DAP5_S24\t\t168C-Poplar-PCR6_S18\r\n",
      "168C-293-1294-27C--gGI-in-COL_S6  168C-INPUT_S11\t168C-Poplar-PCR7_S19\r\n",
      "168C-294-1298-22C-35SGI_S7\t  168C-Poplar-PCR10_S2\t168C-Poplar-PCR8_S20\r\n",
      "168C-295-1298-27C-35SGI_S8\t  168C-Poplar-PCR1_S13\t168C-Poplar-PCR9_S1\r\n"
     ]
    }
   ],
   "source": [
    "! ls /home/feng/envs/168C__Poplar/bw/16"
   ]
  },
  {
   "cell_type": "code",
   "execution_count": 61,
   "metadata": {},
   "outputs": [],
   "source": [
    "with pyext.FrozenPath('upGeo-results/0407-database-mapped/') as d:\n",
    "    meta = pyext.readData('meta.csv')\n",
    "    mcurr = meta.query('EXT in [\"bam\",\"narrowPeak\",\"count\",\"txt\",\"bw\"]')\n",
    "    mcurr = mcurr.query('~BASENAME.str.contains(\"orig.sorted.bam\")')\n",
    "\n",
    "    mcurr = mcurr.query('~FULL_PATH.str.contains(\"__blacklist\")')\n",
    "\n",
    "    dfc = mcurr\n",
    "    dfc['RUN_ID'] = dfc['FILEACC'].map( synotil.ptn.get_runID )\n",
    "    dfc['SAMPLE_ID'] = dfc['FILEACC'].map( synotil.ptn.get_sampleID )\n",
    "    dfc['DATAACC'] = pyext.df__format(dfc,'{RUN_ID}{SAMPLE_ID}')\n",
    "\n",
    "    mcurr.to_csv('mcurr.csv')"
   ]
  },
  {
   "cell_type": "code",
   "execution_count": 58,
   "metadata": {},
   "outputs": [
    {
     "name": "stdout",
     "output_type": "stream",
     "text": [
      ",DATAACC,BASENAME\n",
      "3971,166CS24,dup.txt\n",
      "3972,166CS24,markdup_stderr.txt\n",
      "3973,166CS24,poplar-11_S24_R1_raw.fastq_trimming_report.txt\n",
      "3974,166CS24,poplar-11_S24_raw_bowtie2_PopTremAlba_nomixed_sorted_rmdup_picard.bam\n",
      "3975,166CS24,poplar-11_S24_raw_bowtie2_PopTremAlba_nomixed_sorted_rmdup_picard_peaks.narrowPeak\n",
      "4175,174CS20,dup.txt\n",
      "4176,174CS20,INPUT-poplar_S20_R1_raw.fastq_trimming_report.txt\n",
      "4177,174CS20,INPUT-poplar_S20_raw_bowtie2_PopTremAlba_nomixed_sorted_rmdup_picard.bam\n",
      "4178,174CS20,INPUT-poplar_S20_raw_bowtie2_PopTremAlba_nomixed_sorted_rmdup_picard_peaks.narrowPeak\n",
      "4179,174CS20,markdup_stderr.txt\n",
      "4180,174CS24,dup.txt\n",
      "4181,174CS24,markdup_stderr.txt\n",
      "4182,174CS24,PtaLHY2-Potri014G106800--S24-166C-_S24_R1_raw.fastq_trimming_report.txt\n",
      "4183,174CS24,PtaLHY2-Potri014G106800--S24-166C-_S24_raw_bowtie2_PopTremAlba_nomixed_sorted_rmdup_picard.bam\n",
      "4184,174CS24,PtaLHY2-Potri014G106800--S24-166C-_S24_raw_bowtie2_PopTremAlba_nomixed_sorted_rmdup_picard_peaks.narrowPeak\n",
      "4237,175CS6,dup.txt\n",
      "4238,175CS6,INPUT-POPLAR_S6_R1_raw.fastq_trimming_report.txt\n",
      "4239,175CS6,INPUT-POPLAR_S6_raw_bowtie2_PopTremAlba_nomixed_sorted_rmdup_picard.bam\n",
      "4240,175CS6,INPUT-POPLAR_S6_raw_bowtie2_PopTremAlba_nomixed_sorted_rmdup_picard_peaks.narrowPeak\n",
      "4241,175CS6,markdup_stderr.txt\n",
      "\n"
     ]
    }
   ],
   "source": [
    "print mcurr[['DATAACC','BASENAME']].to_csv()\n",
    "# mcurr.query('EXT==\"bw\"').set_index('DATAACC')['FULL_PATH']\n",
    "# mcurr.query('EXT==\"narrowPeak\"').set_index('DATAACC')['FULL_PATH']"
   ]
  },
  {
   "cell_type": "code",
   "execution_count": 66,
   "metadata": {},
   "outputs": [],
   "source": [
    "# rnaCurr['RPKMFile'] = mcurr.query('BASENAME.str.endswith(\"RPKM.bw\")').set_index('DATAACC')['FULL_PATH']\n"
   ]
  },
  {
   "cell_type": "code",
   "execution_count": 80,
   "metadata": {},
   "outputs": [],
   "source": [
    "! mkdir 0501-poplar"
   ]
  },
  {
   "cell_type": "code",
   "execution_count": 81,
   "metadata": {},
   "outputs": [],
   "source": [
    "! cp -lr /home/feng/work/upGeo/0424-rnacurr-poplar-dapseq.tsv -t meta/src"
   ]
  },
  {
   "cell_type": "code",
   "execution_count": 82,
   "metadata": {},
   "outputs": [
    {
     "name": "stdout",
     "output_type": "stream",
     "text": [
      "#!/usr/bin/env python2\r\n",
      "import pymisca.header as pyheader\r\n",
      "pyheader.base__check()\r\n",
      "pyheader.execBaseFile('headers/header__import.py')\r\n",
      "figs = pyext.collections.OrderedDict()\r\n",
      "\r\n",
      "\r\n",
      "meta= pyext.dir__indexify('/home/feng/writable/teamkj/__backup/')\r\n",
      "\r\n",
      "meta.to_csv('teamkj.meta.csv')\r\n"
     ]
    }
   ],
   "source": [
    "! head meta/src/0407-database-mapped.py"
   ]
  },
  {
   "cell_type": "code",
   "execution_count": 193,
   "metadata": {},
   "outputs": [
    {
     "name": "stdout",
     "output_type": "stream",
     "text": [
      "Overwriting 0501-poplar/0501-poplar-chiptargpeak.py\n"
     ]
    }
   ],
   "source": [
    "%%writefile 0501-poplar/0501-poplar-chiptargpeak.py\n",
    "#!/usr/bin/env python2\n",
    "import pymisca.header as pyheader\n",
    "pyheader.base__check()\n",
    "pyheader.execBaseFile('headers/header__import.py')\n",
    "figs = pyext.collections.OrderedDict()\n",
    "\n",
    "# pyutil.envSource('')\n",
    "mcurr = pyext.readBaseFile('upGeo-results/0407-database-mapped/mcurr.csv',guess_index=0)\n",
    "rnaCurr = pyext.readBaseFile('meta/src/0424-rnacurr-poplar-dapseq.tsv')\n",
    "mcurr = mcurr.query('DATAACC in @rnaCurr.index')\n",
    "rnaCurr['npkFile'] = mcurr.query('EXT==\"narrowPeak\"').set_index('DATAACC')['FULL_PATH']\n",
    "rnaCurr['RPKMFile'] = mcurr.query('BASENAME.str.endswith(\"RPKM.bw\")').set_index('DATAACC')['FULL_PATH']\n",
    "\n",
    "rnaCurr['header'] = rnaCurr['bname']\n",
    "\n",
    "# treatment = '174CS24'\n",
    "# with pyext.FrozenPath()\n",
    "\n",
    "res = sjob.job__chipTargPaired(\n",
    "    CUTOFF_FC=6,\n",
    "    treatment='174CS24',\n",
    "    control='174CS20',\n",
    "    bwMeta=rnaCurr,\n",
    "#     name='174CS24-FC3'\n",
    ")\n",
    "figs.update(res[0])\n",
    "\n",
    "res = sjob.job__chipTargPaired(\n",
    "    CUTOFF_FC=6,\n",
    "    treatment='166CS24',\n",
    "    control='174CS20',\n",
    "    bwMeta=rnaCurr,\n",
    "#     name = '166CS24-FC3'\n",
    "#     name='PIF-chip',\n",
    ")\n",
    "figs.update(res[0])\n",
    "\n",
    "\n",
    "pyutil.render__images(figs,)\n",
    "\n",
    "# res[1].to_csv('clu.csv')"
   ]
  },
  {
   "cell_type": "code",
   "execution_count": 163,
   "metadata": {},
   "outputs": [
    {
     "name": "stdout",
     "output_type": "stream",
     "text": [
      "Overwriting meta/src/0501-prepareGCONF-poplar.py\n"
     ]
    }
   ],
   "source": [
    "%%writefile meta/src/0501-prepareGCONF-poplar.py\n",
    "#!/usr/bin/env python\n",
    "NCORE=6\n",
    "import pymisca.ext as pyext\n",
    "execfile(pyext.base__file('headers/header__import.py'))\n",
    "figs = pyutil.collections.OrderedDict()\n",
    "\n",
    "\n",
    "gconf = pyutil.util_obj(**pyutil.envSource(\n",
    "    pyext.base__file('ref/config/config_sPta717-v1-1.sh'),silent=1)\n",
    "                       )\n",
    "# keyDF = pyutil.readBaseFile('headers/key_ath.csv')\n",
    "# if hasattr(keyDF,'gconf'):\n",
    "if 1:\n",
    "    anno = pyutil.readBaseFile(gconf.ANNOINFO)\n",
    "    dfc = pyutil.readBaseFile(gconf.ANNOINFO,comment=None)\n",
    "    dfc = dfc.sort_values('transcriptName')\n",
    "    dfc = dfc.query('~locusName.duplicated()').set_index('locusName')\n",
    "    dfc = dfc['Best-hit-arabi-name,arabi-symbol,arabi-defline'.split(',')]\n",
    "    gconf.defline = defline = dfc\n",
    "    # Best-hit-arabi-name      arabi-symbol    arabi-defline\n",
    "\n",
    "    # defline = pyutil.readData(gconf.DEFLINE,header = None)\n",
    "    # defline.index = defline.index.str.split('.',1).str.get(0)\n",
    "    # defline = defline[[2]].rename(columns = {2:'defline'})\n",
    "    # defline = defline.query('~index.duplicated()')\n",
    "    # gconf.defline = defline\n",
    "\n",
    "    gene2name =dfc= pyutil.readBaseFile(gconf.GENE2NAME,\n",
    "                                        header = None, names = list(range(3)),\n",
    "                                       ext='tsv')\n",
    "\n",
    "    ### patch \n",
    "    rid = ~dfc[2].isnull()\n",
    "    dfcc = dfc.loc[rid]\n",
    "    cid = dfcc.applymap(len).values.argmin(axis=1)\n",
    "    rid = np.where(rid)[0][cid]\n",
    "    dfc.iloc[rid,0] = dfc.iloc[rid,1]\n",
    "\n",
    "#     dfc.index = dfc.index.str.split('.',1).str.get(0)\n",
    "\n",
    "    if 0:\n",
    "        dfc =  dfc[[1]].rename(columns={1:'synonym'})\n",
    "        dfc.loc['Bradi5g13980'] = 'BdCDKG'\n",
    "        dfc = dfc.query('~synonym.duplicated()')\n",
    "        keyDFC = sutil.tidyBd(keyDF)\n",
    "        dfc=dfc.merge(right=keyDFC ,how='outer',left_index=True,right_index=True)[['synonym']]\n",
    "        dfc = dfc.fillna(keyDFC.rename(columns={'BioName':'synonym'}))\n",
    "\n",
    "        gconf.gene2name = gene2name = dfc\n",
    "\n",
    "\n",
    "\n",
    "    gconf.geneMeta = geneMeta = pd.concat([gene2name,defline],axis=1,sort=True)\n",
    "    gconf.defline = defline\n",
    "    gconf.gene2name = gene2name\n",
    "    geneMeta.to_csv('geneMeta.csv')\n",
    "np.save('gconf.npy',gconf)\n",
    "\n",
    "# %timeit defline.index.str.extract('([^\\.]+)')\n",
    "# %timeit defline.index.str.split('.',1).str.get(0)"
   ]
  },
  {
   "cell_type": "code",
   "execution_count": 164,
   "metadata": {},
   "outputs": [
    {
     "name": "stdout",
     "output_type": "stream",
     "text": [
      "[JOBCMD]/0501-prepareGCONF-poplar.py \n"
     ]
    },
    {
     "data": {
      "text/plain": [
       "u'is in ipython: 0 \\nis in ipython: 0 \\n/home/feng/.local/lib/python2.7/site-packages/biograpy-1.0b0.dev0-py2.7.egg/biograpy/drawer.py:14: UserWarning:\\n\\n\\nThis call to matplotlib.use() has no effect because the backend has already\\nbeen chosen; matplotlib.use() must be called *before* pylab, matplotlib.pyplot,\\nor matplotlib.backends is imported for the first time.\\n\\nThe backend was *originally* set to \\'module://ipykernel.pylab.backend_inline\\' by the following code:\\n  File \"/home/feng/envs/CAMICE/.scripts/2019-05-01T23:23:24.510649/0501-prepareGCONF-poplar.py\", line 4, in <module>\\n    execfile(pyext.base__file(\\'headers/header__import.py\\'))\\n  File \"/home/feng/envs/CAMICE/headers/header__import.py\", line 8, in <module>\\n    import synotil.dio as sdio;reload(sdio)\\n  File \"/home/feng/.local/lib/python2.7/site-packages/synotil/dio.py\", line 3, in <module>\\n    import CountMatrix as scount\\n  File \"/home/feng/.local/lib/python2.7/site-packages/synotil/CountMatrix.py\", line 4, in <module>\\n    import pymisca.util as pyutil\\n  File \"/home/feng/.local/lib/python2.7/site-packages/pymisca/util.py\", line 16, in <module>\\n    import matplotlib.pyplot as plt\\n  File \"/home/feng/.local/lib/python2.7/site-packages/matplotlib/pyplot.py\", line 71, in <module>\\n    from matplotlib.backends import pylab_setup\\n  File \"/home/feng/.local/lib/python2.7/site-packages/matplotlib/backends/__init__.py\", line 16, in <module>\\n    line for line in traceback.format_stack()\\n\\n\\n\\nis in ipython: 0 \\nis in ipython: 0 \\n[WARN] Cannot find file:key.gene\\n[WARN] Cannot find file:key.gene\\n'"
      ]
     },
     "execution_count": 164,
     "metadata": {},
     "output_type": "execute_result"
    }
   ],
   "source": [
    "pyext.job__safeScriptCMD('meta/src/0501-prepareGCONF-poplar.py')"
   ]
  },
  {
   "cell_type": "code",
   "execution_count": 170,
   "metadata": {},
   "outputs": [
    {
     "name": "stdout",
     "output_type": "stream",
     "text": [
      "Overwriting 0501-poplar/0501-poplar-peak2gene.py\n"
     ]
    }
   ],
   "source": [
    "%%writefile 0501-poplar/0501-poplar-peak2gene.py\n",
    "#!/usr/bin/env python2\n",
    "import pymisca.header as pyhead\n",
    "execfile(pyhead.base__file('headers/header__import.py'))\n",
    "# HOST = pyhead.base__check('HOST')\n",
    "\n",
    "CUTOFF_PEAK2GENE= 5000\n",
    "# gconf = pyutil.readBaseFile('results/0219__prepareGCONF__Ath/gconf.npy').tolist()\n",
    "gconf = pyutil.readBaseFile('results/0501-prepareGCONF-poplar/gconf.npy').tolist()\n",
    "\n",
    "    \n",
    "with pyext.FrozenPath(pyext.base__file()) as p:\n",
    "    fnames = pyext.glob.glob('results/0501-poplar-chiptargpeak/output/*.bed',)\n",
    "    \n",
    "# fnames = [\n",
    "# 'results/0224__chipTarg__CAMICE/output/CAMTA-CHX.bed',\n",
    "#  'results/0224__chipTarg__CAMICE/output/CAMTA-cold.bed',\n",
    "#  'results/0224__chipTarg__CAMICE/output/ICE1-CHX.bed',\n",
    "#  'results/0224__chipTarg__CAMICE/output/ICE1-cold.bed',\n",
    "# 'results/0224__chipTarg__CAMICE/output/CAMTA-CHX194.bed',\n",
    "# ]\n",
    "\n",
    "for fname in fnames:\n",
    "    fname = pyext.base__file(fname)\n",
    "    res = sdio.job__nearAUG(\n",
    "        peakFile=fname,        \n",
    "        featFile=gconf.GTF+'.cds',\n",
    "        GSIZE=gconf.GSIZE,\n",
    "        CUTOFF=CUTOFF_PEAK2GENE,\n",
    "#         CUTOFF=3000,\n",
    "    )\n",
    "    pyutil.shellexec('mkdir -p output/')\n",
    "    pyutil.file__link(res,'output/%s.%s'%(pyutil.getBname(fname),\n",
    "                                         res.rsplit('.',1)[-1]),\n",
    "                     force=True,)\n",
    "    #     bed = pyutil.readBaseFile(fname,)\n",
    "#     break\n",
    "print ('[DONE]')"
   ]
  },
  {
   "cell_type": "code",
   "execution_count": 174,
   "metadata": {},
   "outputs": [],
   "source": [
    "??sdio.job__nearAUG\n"
   ]
  },
  {
   "cell_type": "code",
   "execution_count": 116,
   "metadata": {},
   "outputs": [
    {
     "data": {
      "text/plain": [
       "u'/home/feng/ref/sPta717-v1-1/annotation/sPta717_v1.1.gene_fixed.gtf'"
      ]
     },
     "execution_count": 116,
     "metadata": {},
     "output_type": "execute_result"
    }
   ],
   "source": [
    "gconf = pyutil.readBaseFile('results/0501-prepareGCONF-poplar/gconf.npy').tolist()\n",
    "gconf.GTF"
   ]
  },
  {
   "cell_type": "code",
   "execution_count": 194,
   "metadata": {},
   "outputs": [
    {
     "name": "stdout",
     "output_type": "stream",
     "text": [
      "[JOBCMD]/0501-poplar-chiptargpeak.py \n"
     ]
    },
    {
     "data": {
      "text/plain": [
       "u'/home/feng/.local/lib/python2.7/site-packages/pymisca/header.py:10: UserWarning: [WARN] NUMPY is not limited cuz NCORE is not set\\n  warnings.warn(\"[WARN] NUMPY is not limited cuz NCORE is not set\")\\nis in ipython: 0 \\nis in ipython: 0 \\n/home/feng/.local/lib/python2.7/site-packages/biograpy-1.0b0.dev0-py2.7.egg/biograpy/drawer.py:14: UserWarning:\\n\\n\\nThis call to matplotlib.use() has no effect because the backend has already\\nbeen chosen; matplotlib.use() must be called *before* pylab, matplotlib.pyplot,\\nor matplotlib.backends is imported for the first time.\\n\\nThe backend was *originally* set to \\'module://ipykernel.pylab.backend_inline\\' by the following code:\\n  File \"/home/feng/envs/CAMICE/.scripts/2019-05-02T00:28:43.091438/0501-poplar-chiptargpeak.py\", line 4, in <module>\\n    pyheader.execBaseFile(\\'headers/header__import.py\\')\\n  File \"/home/feng/.local/lib/python2.7/site-packages/pymisca/header.py\", line 104, in execBaseFile\\n    res = execfile(fname, g, g)\\n  File \"/home/feng/envs/CAMICE/headers/header__import.py\", line 8, in <module>\\n    import synotil.dio as sdio;reload(sdio)\\n  File \"/home/feng/.local/lib/python2.7/site-packages/synotil/dio.py\", line 3, in <module>\\n    import CountMatrix as scount\\n  File \"/home/feng/.local/lib/python2.7/site-packages/synotil/CountMatrix.py\", line 4, in <module>\\n    import pymisca.util as pyutil\\n  File \"/home/feng/.local/lib/python2.7/site-packages/pymisca/util.py\", line 16, in <module>\\n    import matplotlib.pyplot as plt\\n  File \"/home/feng/.local/lib/python2.7/site-packages/matplotlib/pyplot.py\", line 71, in <module>\\n    from matplotlib.backends import pylab_setup\\n  File \"/home/feng/.local/lib/python2.7/site-packages/matplotlib/backends/__init__.py\", line 16, in <module>\\n    line for line in traceback.format_stack()\\n\\n\\n\\nis in ipython: 0 \\nis in ipython: 0 \\n[BASE]=/home/feng/envs/CAMICE\\n[WARN] Cannot find file:key.gene\\n[WARN] Cannot find file:key.gene\\n[CMD]cat INPUT-poplar_S20_raw_bowtie2_PopTremAlba_nomixed_sorted_rmdup_picard_peaks_query=FC-GT-6dot000.tsv PtaLHY2-Potri014G106800--S24-166C-_S24_raw_bowtie2_PopTremAlba_nomixed_sorted_rmdup_picard_peaks_query=FC-GT-6dot000.tsv>174CS20-174CS24-combined.bed\\n[L] 10631\\n[L]= 100\\n[L]= 100\\n\\n [WARN] unable to simplify condName. Exception:list index out of range\\n(\\'val_174CS24-val_174CS20-GT-0dot7.csv\\', 10632)\\n[CMD]mkdir -p output/\\n[CMD]cat INPUT-poplar_S20_raw_bowtie2_PopTremAlba_nomixed_sorted_rmdup_picard_peaks_query=FC-GT-6dot000.tsv poplar-11_S24_raw_bowtie2_PopTremAlba_nomixed_sorted_rmdup_picard_peaks_query=FC-GT-6dot000.tsv>174CS20-166CS24-combined.bed\\n[L] 4136\\n[L]= 100\\n[L]= 100\\n\\n [WARN] unable to simplify condName. Exception:list index out of range\\n(\\'val_166CS24-val_174CS20-GT-0dot7.csv\\', 4137)\\n[CMD]mkdir -p output/\\n'"
      ]
     },
     "execution_count": 194,
     "metadata": {},
     "output_type": "execute_result"
    }
   ],
   "source": [
    "pyext.job__safeScriptCMD('0501-poplar/0501-poplar-chiptargpeak.py')"
   ]
  },
  {
   "cell_type": "code",
   "execution_count": 195,
   "metadata": {
    "scrolled": true
   },
   "outputs": [
    {
     "name": "stdout",
     "output_type": "stream",
     "text": [
      "[JOBCMD]/0501-poplar-peak2gene.py \n",
      "/home/feng/.local/lib/python2.7/site-packages/pymisca/header.py:10: UserWarning: [WARN] NUMPY is not limited cuz NCORE is not set\n",
      "  warnings.warn(\"[WARN] NUMPY is not limited cuz NCORE is not set\")\n",
      "is in ipython: 0 \n",
      "is in ipython: 0 \n",
      "/home/feng/.local/lib/python2.7/site-packages/biograpy-1.0b0.dev0-py2.7.egg/biograpy/drawer.py:14: UserWarning:\n",
      "\n",
      "\n",
      "This call to matplotlib.use() has no effect because the backend has already\n",
      "been chosen; matplotlib.use() must be called *before* pylab, matplotlib.pyplot,\n",
      "or matplotlib.backends is imported for the first time.\n",
      "\n",
      "The backend was *originally* set to 'module://ipykernel.pylab.backend_inline' by the following code:\n",
      "  File \"/home/feng/envs/CAMICE/.scripts/2019-05-02T00:29:47.082284/0501-poplar-peak2gene.py\", line 3, in <module>\n",
      "    execfile(pyhead.base__file('headers/header__import.py'))\n",
      "  File \"/home/feng/envs/CAMICE/headers/header__import.py\", line 8, in <module>\n",
      "    import synotil.dio as sdio;reload(sdio)\n",
      "  File \"/home/feng/.local/lib/python2.7/site-packages/synotil/dio.py\", line 3, in <module>\n",
      "    import CountMatrix as scount\n",
      "  File \"/home/feng/.local/lib/python2.7/site-packages/synotil/CountMatrix.py\", line 4, in <module>\n",
      "    import pymisca.util as pyutil\n",
      "  File \"/home/feng/.local/lib/python2.7/site-packages/pymisca/util.py\", line 16, in <module>\n",
      "    import matplotlib.pyplot as plt\n",
      "  File \"/home/feng/.local/lib/python2.7/site-packages/matplotlib/pyplot.py\", line 71, in <module>\n",
      "    from matplotlib.backends import pylab_setup\n",
      "  File \"/home/feng/.local/lib/python2.7/site-packages/matplotlib/backends/__init__.py\", line 16, in <module>\n",
      "    line for line in traceback.format_stack()\n",
      "\n",
      "\n",
      "\n",
      "is in ipython: 0 \n",
      "is in ipython: 0 \n",
      "***** WARNING: File sPta717_v1.1.gene_fixed.gtf.cds.summit.2498 has a record where naming convention (leading zero) is inconsistent with other files:\n",
      "Chr10\t12882\t17879\tPotri.010G000100\t.\t-\texon\n",
      "\n",
      "***** WARNING: File sPta717_v1.1.gene_fixed.gtf.cds.summit.2498 has a record where naming convention (leading zero) is inconsistent with other files:\n",
      "Chr10\t12882\t17879\tPotri.010G000100\t.\t-\texon\n",
      "\n",
      "***** WARNING: File sPta717_v1.1.gene_fixed.gtf.cds.summit.2498 has a record where naming convention (leading zero) is inconsistent with other files:\n",
      "Chr10\t12882\t17879\tPotri.010G000100\t.\t-\texon\n",
      "\n",
      "***** WARNING: File sPta717_v1.1.gene_fixed.gtf.cds.summit.2498 has a record where naming convention (leading zero) is inconsistent with other files:\n",
      "Chr10\t12882\t17879\tPotri.010G000100\t.\t-\texon\n",
      "\n",
      "[WARN] Cannot find file:key.gene\n",
      "[WARN] Cannot find file:key.gene\n",
      "[CMD]mkdir -p output/\n",
      "[CMD]mkdir -p output/\n",
      "[DONE]\n",
      "\n"
     ]
    }
   ],
   "source": [
    "print pyext.job__safeScriptCMD('0501-poplar/0501-poplar-peak2gene.py')"
   ]
  },
  {
   "cell_type": "code",
   "execution_count": 196,
   "metadata": {},
   "outputs": [
    {
     "name": "stdout",
     "output_type": "stream",
     "text": [
      "[JOBCMD]/0501-poplar-output-annotated-peak2gene.py \n"
     ]
    },
    {
     "data": {
      "text/plain": [
       "u'/home/feng/.local/lib/python2.7/site-packages/pymisca/header.py:10: UserWarning: [WARN] NUMPY is not limited cuz NCORE is not set\\n  warnings.warn(\"[WARN] NUMPY is not limited cuz NCORE is not set\")\\nis in ipython: 0 \\nis in ipython: 0 \\n/home/feng/.local/lib/python2.7/site-packages/biograpy-1.0b0.dev0-py2.7.egg/biograpy/drawer.py:14: UserWarning:\\n\\n\\nThis call to matplotlib.use() has no effect because the backend has already\\nbeen chosen; matplotlib.use() must be called *before* pylab, matplotlib.pyplot,\\nor matplotlib.backends is imported for the first time.\\n\\nThe backend was *originally* set to \\'module://ipykernel.pylab.backend_inline\\' by the following code:\\n  File \"/home/feng/envs/CAMICE/.scripts/2019-05-02T00:30:01.215095/0501-poplar-output-annotated-peak2gene.py\", line 3, in <module>\\n    execfile(pyhead.base__file(\\'headers/header__import.py\\'))\\n  File \"/home/feng/envs/CAMICE/headers/header__import.py\", line 8, in <module>\\n    import synotil.dio as sdio;reload(sdio)\\n  File \"/home/feng/.local/lib/python2.7/site-packages/synotil/dio.py\", line 3, in <module>\\n    import CountMatrix as scount\\n  File \"/home/feng/.local/lib/python2.7/site-packages/synotil/CountMatrix.py\", line 4, in <module>\\n    import pymisca.util as pyutil\\n  File \"/home/feng/.local/lib/python2.7/site-packages/pymisca/util.py\", line 16, in <module>\\n    import matplotlib.pyplot as plt\\n  File \"/home/feng/.local/lib/python2.7/site-packages/matplotlib/pyplot.py\", line 71, in <module>\\n    from matplotlib.backends import pylab_setup\\n  File \"/home/feng/.local/lib/python2.7/site-packages/matplotlib/backends/__init__.py\", line 16, in <module>\\n    line for line in traceback.format_stack()\\n\\n\\n\\nis in ipython: 0 \\nis in ipython: 0 \\n[WARN] Cannot find file:key.gene\\n[WARN] Cannot find file:key.gene\\n[CMD]mkdir -p output\\n'"
      ]
     },
     "execution_count": 196,
     "metadata": {},
     "output_type": "execute_result"
    }
   ],
   "source": [
    "pyext.job__safeScriptCMD('0501-poplar/0501-poplar-output-annotated-peak2gene.py')"
   ]
  },
  {
   "cell_type": "code",
   "execution_count": 173,
   "metadata": {},
   "outputs": [
    {
     "name": "stdout",
     "output_type": "stream",
     "text": [
      "total 110M\r\n",
      "-rw-rw-r-- 1 feng feng 1.7M May  1 00:33 job_nearAUG__peak_174CS20-174CS24.bed__cutoff_3000__feat_sPta717-v1.1.gene-fixed.gtf.cds.tsv\r\n",
      "-rw-rw-r-- 1 feng feng 630K May  1 00:33 job_nearAUG__peak_174CS20-166CS24.bed__cutoff_3000__feat_sPta717-v1.1.gene-fixed.gtf.cds.tsv\r\n",
      "-rw-rw-r-- 1 feng feng 1.3K May  1 23:31 0501-poplar-peak2gene.py\r\n",
      "-rw-rw-r-- 1 feng feng  13M May  1 23:31 174CS20-174CS24.bed.summit\r\n",
      "-rw-rw-r-- 1 feng feng  13M May  1 23:31 174CS20-174CS24.bed.summit.2998\r\n",
      "-rw-rw-r-- 1 feng feng  22M May  1 23:32 infiles:174CS20-174CS24.bed:sPta717_v1.1.gene_fixed.gtf.cds__cutoff:5999.tsv\r\n",
      "-rw-rw-r-- 2 feng feng  16M May  1 23:32 job_nearAUG__peak_174CS20-174CS24.bed__cutoff_5000__feat_sPta717-v1.1.gene-fixed.gtf.cds.tsv\r\n",
      "-rw-rw-r-- 1 feng feng 8.0M May  1 23:32 174CS20-166CS24.bed.summit\r\n",
      "-rw-rw-r-- 1 feng feng 2.0M May  1 23:32 sPta717_v1.1.gene_fixed.gtf.cds.summit\r\n",
      "-rw-rw-r-- 1 feng feng 8.0M May  1 23:32 174CS20-166CS24.bed.summit.2998\r\n",
      "-rw-rw-r-- 1 feng feng 2.0M May  1 23:32 sPta717_v1.1.gene_fixed.gtf.cds.summit.2998\r\n",
      "-rw-rw-r-- 1 feng feng  16M May  1 23:32 infiles:174CS20-166CS24.bed:sPta717_v1.1.gene_fixed.gtf.cds__cutoff:5999.tsv\r\n",
      "-rw-rw-r-- 2 feng feng  12M May  1 23:32 job_nearAUG__peak_174CS20-166CS24.bed__cutoff_5000__feat_sPta717-v1.1.gene-fixed.gtf.cds.tsv\r\n",
      "drwxrwxr-x 2 feng feng 4.0K May  1 23:32 output\r\n",
      "-rw-rw-r-- 1 feng feng 2.6K May  1 23:32 0501-poplar-peak2gene.py.log\r\n",
      "-rw-rw-r-- 1 feng feng    0 May  1 23:32 DONE\r\n"
     ]
    }
   ],
   "source": [
    "!ls results/0501-poplar-peak2gene/ -lhtr"
   ]
  },
  {
   "cell_type": "code",
   "execution_count": 158,
   "metadata": {},
   "outputs": [
    {
     "name": "stdout",
     "output_type": "stream",
     "text": [
      "Overwriting 0501-poplar/0501-poplar-output-annotated-peak2gene.py\n"
     ]
    }
   ],
   "source": [
    "%%writefile 0501-poplar/0501-poplar-output-annotated-peak2gene.py\n",
    "#!/usr/bin/env python2\n",
    "import pymisca.header as pyhead\n",
    "execfile(pyhead.base__file('headers/header__import.py'))\n",
    "# HOST = pyhead.base__check('HOST')\n",
    "import os\n",
    "\n",
    "gconf = pyutil.readBaseFile('results/0501-prepareGCONF-poplar/gconf.npy').tolist()\n",
    "# gconf.GTF\n",
    "peak2geneFile = fname = 'results/0501-poplar-peak2gene/output/174CS20-166CS24.tsv'\n",
    "pyext.shellexec('mkdir -p output')\n",
    "def worker(fname):\n",
    "    BNAME = pyext.getBname(fname)\n",
    "    peak2gene = pyext.readBaseFile(fname)\n",
    "    dfc = peak2gene.merge(gconf.defline,right_index=True,left_on='feat_acc')\n",
    "    # dfc.query('@dfc[\"Best-hit-arabi-name\"].str.contains(\"AT1G01060\")')\n",
    "    # COLS = ['chrom','start','end','acc','score','strand','FC',]\n",
    "    dfc = dfc.drop(columns =['img',])\n",
    "    sutil.to_tsv(dfc,'output/{BNAME}-all-fileterpeak-withdefline.csv'.format(**locals()),index=0)\n",
    "\n",
    "    dfc = dfc.sort_values(['feat_acc','FC'],ascending=False).groupby('feat_acc').first()\n",
    "    sutil.to_tsv(dfc,'output/{BNAME}-best-filterpeak-withdefline.csv'.format(**locals()),index=0)\n",
    "\n",
    "map(worker,pyext.glob.glob(os.path.join(pyext.base__file(),\n",
    "                                        'results/0501-poplar-peak2gene/output/*.tsv')))\n"
   ]
  },
  {
   "cell_type": "code",
   "execution_count": 181,
   "metadata": {},
   "outputs": [],
   "source": [
    "# ! rm slides"
   ]
  },
  {
   "cell_type": "code",
   "execution_count": 186,
   "metadata": {},
   "outputs": [
    {
     "name": "stdout",
     "output_type": "stream",
     "text": [
      "slides/:\r\n",
      "total 112K\r\n",
      "-rw-r--r-- 2 feng feng   89 May  1 23:41 log.sh\r\n",
      "-rw-r--r-- 2 feng feng  551 May  1 23:41 render.sh\r\n",
      "-rw-r--r-- 2 feng feng 1.2K May  2 00:16 vars.yaml\r\n",
      "-rw-r--r-- 2 feng feng 1.8K May  2 00:18 MandM_poplarCompMethod.md\r\n",
      "-rw-rw-r-- 2 feng feng 3.2K May  2 00:18 MandM_poplarCompMethod.html\r\n",
      "drwxr-xr-x 2 feng feng 4.0K May  2 00:20 \u001b[0m\u001b[01;34mfigures\u001b[0m/\r\n",
      "-rw-r--r-- 2 feng feng 8.1K May  1 23:41 science.csl\r\n",
      "-rw-rw-r-- 2 feng feng  12K May  2 00:18 MandM_poplarCompMethod.direct.docx\r\n",
      "-rw-rw-r-- 2 feng feng  14K May  2 00:18 MandM_poplarCompMethod.docx\r\n",
      "-rw-r--r-- 2 feng feng  45K May  1 23:41 citation.bib\r\n",
      "\r\n",
      "results/0501-poplar-peak2gene/output:\r\n",
      "total 28M\r\n",
      "-rw-rw-r-- 2 feng feng 12M May  1 23:36 174CS20-166CS24.tsv\r\n",
      "-rw-rw-r-- 2 feng feng 16M May  1 23:36 174CS20-174CS24.tsv\r\n",
      "\r\n",
      "results/0501-poplar-output-annotated-peak2gene/output:\r\n",
      "total 43M\r\n",
      "-rw-rw-r-- 1 feng feng 5.7M May  1 23:37 174CS20-166CS24-best-filterpeak-withdefline.csv\r\n",
      "-rw-rw-r-- 1 feng feng 7.0M May  1 23:37 174CS20-174CS24-best-filterpeak-withdefline.csv\r\n",
      "-rw-rw-r-- 1 feng feng  13M May  1 23:37 174CS20-166CS24-all-fileterpeak-withdefline.csv\r\n",
      "-rw-rw-r-- 1 feng feng  18M May  1 23:37 174CS20-174CS24-all-fileterpeak-withdefline.csv\r\n",
      "\r\n",
      "results/0501-poplar-chiptargpeak/output:\r\n",
      "total 21M\r\n",
      "-rw-rw-r-- 2 feng feng 8.0M May  1 23:26 174CS20-166CS24.bed\r\n",
      "-rw-rw-r-- 2 feng feng  13M May  1 23:25 174CS20-174CS24.bed\r\n",
      "\r\n",
      "0501-poplar/:\r\n",
      "total 16K\r\n",
      "-rw-rw-r-- 1 feng feng 1022 May  1 00:47 0501-poplar-output-tsv.py\r\n",
      "-rw-rw-r-- 1 feng feng 1.1K May  1 23:23 0501-poplar-chiptargpeak.py\r\n",
      "-rw-rw-r-- 1 feng feng 1.2K May  1 00:52 0501-poplar-output-annotated-peak2gene.py\r\n",
      "-rw-rw-r-- 1 feng feng 1.3K May  1 23:31 0501-poplar-peak2gene.py\r\n"
     ]
    }
   ],
   "source": [
    "ls -lhSr slides/ 0501-poplar/ results/0501-poplar-*/output"
   ]
  },
  {
   "cell_type": "code",
   "execution_count": 188,
   "metadata": {},
   "outputs": [
    {
     "data": {
      "text/markdown": [
       "[0501-poplar-FC3.tar.gz](0501-poplar-FC3.tar.gz)"
      ],
      "text/plain": [
       "<IPython.core.display.Markdown object>"
      ]
     },
     "metadata": {},
     "output_type": "display_data"
    }
   ],
   "source": [
    "pyext.MDFile('0501-poplar-FC3.tar.gz')"
   ]
  },
  {
   "cell_type": "code",
   "execution_count": 187,
   "metadata": {},
   "outputs": [],
   "source": [
    "mv 0501-poplar.tar.gz 0501-poplar-FC3.tar.gz"
   ]
  },
  {
   "cell_type": "code",
   "execution_count": 197,
   "metadata": {},
   "outputs": [
    {
     "data": {
      "text/markdown": [
       "[0501-poplar-FC6.tar.gz](0501-poplar-FC6.tar.gz)"
      ],
      "text/plain": [
       "<IPython.core.display.Markdown object>"
      ]
     },
     "metadata": {},
     "output_type": "display_data"
    },
    {
     "name": "stdout",
     "output_type": "stream",
     "text": [
      "slides/\n",
      "slides/citation.bib\n",
      "slides/render.sh\n",
      "slides/science.csl\n",
      "slides/vars.yaml\n",
      "slides/.Rhistory\n",
      "slides/MandM_poplarCompMethod.md\n",
      "slides/MandM_poplarCompMethod.html\n",
      "slides/log.sh\n",
      "slides/MandM_poplarCompMethod.direct.docx\n",
      "slides/.ipynb_checkpoints/\n",
      "slides/figures/\n",
      "slides/figures/clu034__MF.png\n",
      "slides/figures/clu019__MF.png\n",
      "slides/figures/clu019__BP.png\n",
      "slides/figures/clu026__BP.png\n",
      "slides/figures/clu008__BP.png\n",
      "slides/figures/clu057__BP.png\n",
      "slides/figures/clu013__BP.png\n",
      "slides/figures/clu026__MF.png\n",
      "slides/MandM_poplarCompMethod.docx\n",
      "0501-poplar/\n",
      "0501-poplar/0501-poplar-output-tsv.py\n",
      "0501-poplar/0501-poplar-peak2gene.py\n",
      "0501-poplar/0501-poplar-output-annotated-peak2gene.py\n",
      "0501-poplar/0501-poplar-chiptargpeak.py\n",
      "results/0501-poplar-chiptargpeak/\n",
      "results/0501-poplar-chiptargpeak/avgHeatmap-174CS20-166CS24.png\n",
      "results/0501-poplar-chiptargpeak/PtaLHY2-Potri014G106800--S24-166C-_S24_raw_bowtie2_PopTremAlba_nomixed_sorted_rmdup_picard_peaks_query=FC-GT-3dot000.tsv\n",
      "results/0501-poplar-chiptargpeak/avgHeatmap-PIF-chip.png\n",
      "results/0501-poplar-chiptargpeak/scatterPlot__LHY2-chip.png\n",
      "results/0501-poplar-chiptargpeak/0501-poplar-chiptargpeak.py.log\n",
      "results/0501-poplar-chiptargpeak/poplar-11_S24_raw_bowtie2_PopTremAlba_nomixed_sorted_rmdup_picard_peaks_query=FC-GT-3dot000.tsv\n",
      "results/0501-poplar-chiptargpeak/PtaLHY2-Potri014G106800--S24-166C-_S24_raw_bowtie2_PopTremAlba_nomixed_sorted_rmdup_picard_peaks_query=FC-GT-6dot000.tsv\n",
      "results/0501-poplar-chiptargpeak/val_174CS24-val_174CS20-GT-0dot7.csv\n",
      "results/0501-poplar-chiptargpeak/174CS20-174CS24-combined.bed\n",
      "results/0501-poplar-chiptargpeak/val_166CS24-val_174CS20-GT-0dot7.csv\n",
      "results/0501-poplar-chiptargpeak/174CS20-166CS24-combined_radius=1.tsv\n",
      "results/0501-poplar-chiptargpeak/scatterPlot__PIF-chip.png\n",
      "results/0501-poplar-chiptargpeak/pileUp-PIF-chip.png\n",
      "results/0501-poplar-chiptargpeak/poplar-11_S24_raw_bowtie2_PopTremAlba_nomixed_sorted_rmdup_picard_peaks_query=FC-GT-6dot000.tsv\n",
      "results/0501-poplar-chiptargpeak/FILE.json\n",
      "results/0501-poplar-chiptargpeak/scatterPlot__174CS20-166CS24.png\n",
      "results/0501-poplar-chiptargpeak/pileUp-174CS20-174CS24.png\n",
      "results/0501-poplar-chiptargpeak/174CS20-166CS24-combined_radius=1-val_166CS24-val_174CS20-GT-0dot7.bed\n",
      "results/0501-poplar-chiptargpeak/174CS20-174CS24-combined_radius=1_radius=500.tsv\n",
      "results/0501-poplar-chiptargpeak/174CS20-166CS24-combined_radius=1_radius=500.tsv\n",
      "results/0501-poplar-chiptargpeak/pileUp-LHY2-chip.png\n",
      "results/0501-poplar-chiptargpeak/avgHeatmap-LHY2-chip.png\n",
      "results/0501-poplar-chiptargpeak/scatterPlot__174CS20-174CS24.png\n",
      "results/0501-poplar-chiptargpeak/DONE\n",
      "results/0501-poplar-chiptargpeak/figures.json\n",
      "results/0501-poplar-chiptargpeak/avgHeatmap-174CS20-174CS24.png\n",
      "results/0501-poplar-chiptargpeak/0501-poplar-chiptargpeak.py\n",
      "results/0501-poplar-chiptargpeak/174CS20-174CS24-combined_radius=1-val_174CS24-val_174CS20-GT-0dot7.bed\n",
      "results/0501-poplar-chiptargpeak/INPUT-poplar_S20_raw_bowtie2_PopTremAlba_nomixed_sorted_rmdup_picard_peaks_query=FC-GT-3dot000.tsv\n",
      "results/0501-poplar-chiptargpeak/pileUp-174CS20-166CS24.png\n",
      "results/0501-poplar-chiptargpeak/174CS20-166CS24-combined.bed\n",
      "results/0501-poplar-chiptargpeak/INPUT-poplar_S20_raw_bowtie2_PopTremAlba_nomixed_sorted_rmdup_picard_peaks_query=FC-GT-6dot000.tsv\n",
      "results/0501-poplar-chiptargpeak/output/\n",
      "results/0501-poplar-chiptargpeak/output/174CS20-174CS24.bed\n",
      "results/0501-poplar-chiptargpeak/output/174CS20-166CS24.bed\n",
      "results/0501-poplar-chiptargpeak/174CS20-174CS24-combined_radius=1.tsv\n",
      "results/0501-poplar-chiptargpeak/figure.html\n",
      "results/0501-poplar-output-annotated-peak2gene/\n",
      "results/0501-poplar-output-annotated-peak2gene/DONE\n",
      "results/0501-poplar-output-annotated-peak2gene/0501-poplar-output-annotated-peak2gene.py\n",
      "results/0501-poplar-output-annotated-peak2gene/0501-poplar-output-annotated-peak2gene.py.log\n",
      "results/0501-poplar-output-annotated-peak2gene/output/\n",
      "results/0501-poplar-output-annotated-peak2gene/output/174CS20-166CS24-best-filterpeak-withdefline.csv\n",
      "results/0501-poplar-output-annotated-peak2gene/output/174CS20-174CS24-best-filterpeak-withdefline.csv\n",
      "results/0501-poplar-output-annotated-peak2gene/output/174CS20-166CS24-all-fileterpeak-withdefline.csv\n",
      "results/0501-poplar-output-annotated-peak2gene/output/174CS20-174CS24-all-fileterpeak-withdefline.csv\n",
      "results/0501-poplar-peak2gene/\n",
      "results/0501-poplar-peak2gene/job_nearAUG__peak_174CS20-166CS24.bed__cutoff_3000__feat_sPta717-v1.1.gene-fixed.gtf.cds.tsv\n",
      "results/0501-poplar-peak2gene/job_nearAUG__peak_174CS20-174CS24.bed__cutoff_3000__feat_sPta717-v1.1.gene-fixed.gtf.cds.tsv\n",
      "results/0501-poplar-peak2gene/174CS20-174CS24.bed.summit.2498\n",
      "results/0501-poplar-peak2gene/infiles:174CS20-166CS24.bed:sPta717_v1.1.gene_fixed.gtf.cds__cutoff:4999.tsv\n",
      "results/0501-poplar-peak2gene/job_nearAUG__peak_174CS20-174CS24.bed__cutoff_5000__feat_sPta717-v1.1.gene-fixed.gtf.cds.tsv\n",
      "results/0501-poplar-peak2gene/174CS20-166CS24.bed.summit.2498\n",
      "results/0501-poplar-peak2gene/infiles:174CS20-166CS24.bed:sPta717_v1.1.gene_fixed.gtf.cds__cutoff:5999.tsv\n",
      "results/0501-poplar-peak2gene/0501-poplar-peak2gene.py\n",
      "results/0501-poplar-peak2gene/174CS20-166CS24.bed.summit.2998\n",
      "results/0501-poplar-peak2gene/sPta717_v1.1.gene_fixed.gtf.cds.summit.2998\n",
      "results/0501-poplar-peak2gene/infiles:174CS20-174CS24.bed:sPta717_v1.1.gene_fixed.gtf.cds__cutoff:5999.tsv\n",
      "results/0501-poplar-peak2gene/sPta717_v1.1.gene_fixed.gtf.cds.summit\n",
      "results/0501-poplar-peak2gene/0501-poplar-peak2gene.py.log\n",
      "results/0501-poplar-peak2gene/DONE\n",
      "results/0501-poplar-peak2gene/sPta717_v1.1.gene_fixed.gtf.cds.summit.2498\n",
      "results/0501-poplar-peak2gene/174CS20-174CS24.bed.summit\n",
      "results/0501-poplar-peak2gene/infiles:174CS20-174CS24.bed:sPta717_v1.1.gene_fixed.gtf.cds__cutoff:4999.tsv\n",
      "results/0501-poplar-peak2gene/174CS20-166CS24.bed.summit\n",
      "results/0501-poplar-peak2gene/output/\n",
      "results/0501-poplar-peak2gene/output/174CS20-174CS24.tsv\n",
      "results/0501-poplar-peak2gene/output/174CS20-166CS24.tsv\n",
      "results/0501-poplar-peak2gene/job_nearAUG__peak_174CS20-166CS24.bed__cutoff_5000__feat_sPta717-v1.1.gene-fixed.gtf.cds.tsv\n",
      "results/0501-poplar-peak2gene/174CS20-174CS24.bed.summit.2998\n",
      "CPU times: user 308 ms, sys: 188 ms, total: 496 ms\n",
      "Wall time: 7.66 s\n"
     ]
    }
   ],
   "source": [
    "%%time\n",
    "FNAME = '0501-poplar.tar.gz'\n",
    "pyext.MDFile(FNAME)\n",
    "! cp -lvrf /home/feng/repos/wiggelabSlides/0501-poplar/ -T slides\n",
    "! tar -zvcf {FNAME} slides/ 0501-poplar/ results/0501-poplar-* "
   ]
  },
  {
   "cell_type": "code",
   "execution_count": 155,
   "metadata": {},
   "outputs": [
    {
     "data": {
      "text/markdown": [
       "[0501-poplar.tar.gz](0501-poplar.tar.gz)"
      ],
      "text/plain": [
       "<IPython.core.display.Markdown object>"
      ]
     },
     "metadata": {},
     "output_type": "display_data"
    }
   ],
   "source": [
    "pyext.MDFile('0501-poplar.tar.gz')"
   ]
  },
  {
   "cell_type": "code",
   "execution_count": 84,
   "metadata": {},
   "outputs": [
    {
     "name": "stdout",
     "output_type": "stream",
     "text": [
      "[JOBCMD]/0501-poplar-chiptargpeak.py \n"
     ]
    },
    {
     "ename": "AssertionError",
     "evalue": "/home/feng/.local/lib/python2.7/site-packages/pymisca/header.py:10: UserWarning: [WARN] NUMPY is not limited cuz NCORE is not set\n  warnings.warn(\"[WARN] NUMPY is not limited cuz NCORE is not set\")\nis in ipython: 0 \nis in ipython: 0 \n/home/feng/.local/lib/python2.7/site-packages/biograpy-1.0b0.dev0-py2.7.egg/biograpy/drawer.py:14: UserWarning:\n\n\nThis call to matplotlib.use() has no effect because the backend has already\nbeen chosen; matplotlib.use() must be called *before* pylab, matplotlib.pyplot,\nor matplotlib.backends is imported for the first time.\n\nThe backend was *originally* set to 'module://ipykernel.pylab.backend_inline' by the following code:\n  File \"/home/feng/envs/CAMICE/.scripts/2019-05-01T00:12:18.842705/0501-poplar-chiptargpeak.py\", line 4, in <module>\n    pyheader.execBaseFile('headers/header__import.py')\n  File \"/home/feng/.local/lib/python2.7/site-packages/pymisca/header.py\", line 104, in execBaseFile\n    res = execfile(fname, g, g)\n  File \"/home/feng/envs/CAMICE/headers/header__import.py\", line 8, in <module>\n    import synotil.dio as sdio;reload(sdio)\n  File \"/home/feng/.local/lib/python2.7/site-packages/synotil/dio.py\", line 3, in <module>\n    import CountMatrix as scount\n  File \"/home/feng/.local/lib/python2.7/site-packages/synotil/CountMatrix.py\", line 4, in <module>\n    import pymisca.util as pyutil\n  File \"/home/feng/.local/lib/python2.7/site-packages/pymisca/util.py\", line 16, in <module>\n    import matplotlib.pyplot as plt\n  File \"/home/feng/.local/lib/python2.7/site-packages/matplotlib/pyplot.py\", line 71, in <module>\n    from matplotlib.backends import pylab_setup\n  File \"/home/feng/.local/lib/python2.7/site-packages/matplotlib/backends/__init__.py\", line 16, in <module>\n    line for line in traceback.format_stack()\n\n\n\nis in ipython: 0 \nis in ipython: 0 \n[BASE]=/home/feng/envs/CAMICE\n[WARN] Cannot find file:key.gene\n[WARN] Cannot find file:key.gene\nTraceback (most recent call last):\n  File \"/home/feng/envs/CAMICE/.scripts/2019-05-01T00:12:18.842705/0501-poplar-chiptargpeak.py\", line 9, in <module>\n    rnaCurr = pyext.readData('meta/src/0424-rnacurr-poplar-dapseq.tsv')\n  File \"/home/feng/.local/lib/python2.7/site-packages/pymisca/ext.py\", line 1012, in readData\n    res,ext = case(ext)\n  File \"/home/feng/.local/lib/python2.7/site-packages/pymisca/ext.py\", line 964, in case\n    res = pd.read_table(fname, comment = comment, **kwargs)\n  File \"/home/feng/.local/lib/python2.7/site-packages/pandas/io/parsers.py\", line 678, in parser_f\n    return _read(filepath_or_buffer, kwds)\n  File \"/home/feng/.local/lib/python2.7/site-packages/pandas/io/parsers.py\", line 440, in _read\n    parser = TextFileReader(filepath_or_buffer, **kwds)\n  File \"/home/feng/.local/lib/python2.7/site-packages/pandas/io/parsers.py\", line 787, in __init__\n    self._make_engine(self.engine)\n  File \"/home/feng/.local/lib/python2.7/site-packages/pandas/io/parsers.py\", line 1014, in _make_engine\n    self._engine = CParserWrapper(self.f, **self.options)\n  File \"/home/feng/.local/lib/python2.7/site-packages/pandas/io/parsers.py\", line 1708, in __init__\n    self._reader = parsers.TextReader(src, **kwds)\n  File \"pandas/_libs/parsers.pyx\", line 384, in pandas._libs.parsers.TextReader.__cinit__\n  File \"pandas/_libs/parsers.pyx\", line 695, in pandas._libs.parsers.TextReader._setup_parser_source\nIOError: File meta/src/0424-rnacurr-poplar-dapseq.tsv does not exist\n",
     "output_type": "error",
     "traceback": [
      "\u001b[0;31m\u001b[0m",
      "\u001b[0;31mAssertionError\u001b[0mTraceback (most recent call last)",
      "\u001b[0;32m<ipython-input-84-4a216b9bd62b>\u001b[0m in \u001b[0;36m<module>\u001b[0;34m()\u001b[0m\n\u001b[0;32m----> 1\u001b[0;31m \u001b[0mpyext\u001b[0m\u001b[0;34m.\u001b[0m\u001b[0mjob__safeScriptCMD\u001b[0m\u001b[0;34m(\u001b[0m\u001b[0;34m'0501-poplar/0501-poplar-chiptargpeak.py'\u001b[0m\u001b[0;34m)\u001b[0m\u001b[0;34m\u001b[0m\u001b[0m\n\u001b[0m",
      "\u001b[0;32m/home/feng/.local/lib/python2.7/site-packages/pymisca/ext.pyc\u001b[0m in \u001b[0;36mjob__safeScriptCMD\u001b[0;34m(CMD, check, **kwargs)\u001b[0m\n\u001b[1;32m    579\u001b[0m \u001b[0;34m\u001b[0m\u001b[0m\n\u001b[1;32m    580\u001b[0m \u001b[0;32mdef\u001b[0m \u001b[0mjob__safeScriptCMD\u001b[0m\u001b[0;34m(\u001b[0m\u001b[0mCMD\u001b[0m\u001b[0;34m,\u001b[0m\u001b[0mcheck\u001b[0m \u001b[0;34m=\u001b[0m \u001b[0mTrue\u001b[0m\u001b[0;34m,\u001b[0m \u001b[0;34m**\u001b[0m\u001b[0mkwargs\u001b[0m\u001b[0;34m)\u001b[0m\u001b[0;34m:\u001b[0m\u001b[0;34m\u001b[0m\u001b[0m\n\u001b[0;32m--> 581\u001b[0;31m     \u001b[0;32mreturn\u001b[0m \u001b[0mjob__scriptCMD\u001b[0m\u001b[0;34m(\u001b[0m\u001b[0mCMD\u001b[0m\u001b[0;34m,\u001b[0m \u001b[0mcheck\u001b[0m \u001b[0;34m=\u001b[0m \u001b[0mcheck\u001b[0m\u001b[0;34m,\u001b[0m \u001b[0;34m**\u001b[0m\u001b[0mkwargs\u001b[0m\u001b[0;34m)\u001b[0m\u001b[0;34m\u001b[0m\u001b[0m\n\u001b[0m\u001b[1;32m    582\u001b[0m \u001b[0;31m# def job__baseScript\u001b[0m\u001b[0;34m\u001b[0m\u001b[0;34m\u001b[0m\u001b[0m\n\u001b[1;32m    583\u001b[0m \u001b[0;34m\u001b[0m\u001b[0m\n",
      "\u001b[0;32m/home/feng/.local/lib/python2.7/site-packages/pymisca/ext.pyc\u001b[0m in \u001b[0;36mjob__scriptCMD\u001b[0;34m(CMD, opts, **kwargs)\u001b[0m\n\u001b[1;32m    573\u001b[0m     \u001b[0mscriptPath\u001b[0m \u001b[0;34m=\u001b[0m \u001b[0msp\u001b[0m\u001b[0;34m[\u001b[0m\u001b[0;36m0\u001b[0m\u001b[0;34m]\u001b[0m\u001b[0;34m\u001b[0m\u001b[0m\n\u001b[1;32m    574\u001b[0m     \u001b[0mopts\u001b[0m \u001b[0;34m=\u001b[0m \u001b[0msp\u001b[0m\u001b[0;34m.\u001b[0m\u001b[0mget\u001b[0m\u001b[0;34m(\u001b[0m\u001b[0;36m1\u001b[0m\u001b[0;34m,\u001b[0m\u001b[0mopts\u001b[0m\u001b[0;34m)\u001b[0m\u001b[0;34m\u001b[0m\u001b[0m\n\u001b[0;32m--> 575\u001b[0;31m     \u001b[0;32mreturn\u001b[0m \u001b[0mjob__script\u001b[0m\u001b[0;34m(\u001b[0m\u001b[0mscriptPath\u001b[0m\u001b[0;34m,\u001b[0m \u001b[0mopts\u001b[0m\u001b[0;34m=\u001b[0m\u001b[0mopts\u001b[0m\u001b[0;34m,\u001b[0m \u001b[0;34m**\u001b[0m\u001b[0mkwargs\u001b[0m\u001b[0;34m)\u001b[0m\u001b[0;34m\u001b[0m\u001b[0m\n\u001b[0m\u001b[1;32m    576\u001b[0m \u001b[0;34m\u001b[0m\u001b[0m\n\u001b[1;32m    577\u001b[0m \u001b[0;32mdef\u001b[0m \u001b[0mjob__safeBaseScriptCMD\u001b[0m\u001b[0;34m(\u001b[0m\u001b[0mCMD\u001b[0m\u001b[0;34m,\u001b[0m \u001b[0mbaseFile\u001b[0m\u001b[0;34m=\u001b[0m\u001b[0;36m1\u001b[0m\u001b[0;34m,\u001b[0m \u001b[0mcheck\u001b[0m \u001b[0;34m=\u001b[0m\u001b[0mTrue\u001b[0m\u001b[0;34m,\u001b[0m \u001b[0;34m**\u001b[0m\u001b[0mkwargs\u001b[0m\u001b[0;34m)\u001b[0m\u001b[0;34m:\u001b[0m\u001b[0;34m\u001b[0m\u001b[0m\n",
      "\u001b[0;32m/home/feng/.local/lib/python2.7/site-packages/pymisca/ext.pyc\u001b[0m in \u001b[0;36mjob__script\u001b[0;34m(scriptPath, ODIR, opts, ENVDIR, silent, DATENOW, interpreter, baseFile, baseOut, check, inplace, prefix)\u001b[0m\n\u001b[1;32m    658\u001b[0m \u001b[0;34m\u001b[0m\u001b[0m\n\u001b[1;32m    659\u001b[0m     \u001b[0;32mif\u001b[0m \u001b[0mcheck\u001b[0m\u001b[0;34m:\u001b[0m\u001b[0;34m\u001b[0m\u001b[0m\n\u001b[0;32m--> 660\u001b[0;31m         \u001b[0;32massert\u001b[0m \u001b[0msuc\u001b[0m\u001b[0;34m,\u001b[0m\u001b[0mres\u001b[0m\u001b[0;34m\u001b[0m\u001b[0m\n\u001b[0m\u001b[1;32m    661\u001b[0m         \u001b[0;32mreturn\u001b[0m \u001b[0mres\u001b[0m\u001b[0;34m\u001b[0m\u001b[0m\n\u001b[1;32m    662\u001b[0m     \u001b[0;32melse\u001b[0m\u001b[0;34m:\u001b[0m\u001b[0;34m\u001b[0m\u001b[0m\n",
      "\u001b[0;31mAssertionError\u001b[0m: /home/feng/.local/lib/python2.7/site-packages/pymisca/header.py:10: UserWarning: [WARN] NUMPY is not limited cuz NCORE is not set\n  warnings.warn(\"[WARN] NUMPY is not limited cuz NCORE is not set\")\nis in ipython: 0 \nis in ipython: 0 \n/home/feng/.local/lib/python2.7/site-packages/biograpy-1.0b0.dev0-py2.7.egg/biograpy/drawer.py:14: UserWarning:\n\n\nThis call to matplotlib.use() has no effect because the backend has already\nbeen chosen; matplotlib.use() must be called *before* pylab, matplotlib.pyplot,\nor matplotlib.backends is imported for the first time.\n\nThe backend was *originally* set to 'module://ipykernel.pylab.backend_inline' by the following code:\n  File \"/home/feng/envs/CAMICE/.scripts/2019-05-01T00:12:18.842705/0501-poplar-chiptargpeak.py\", line 4, in <module>\n    pyheader.execBaseFile('headers/header__import.py')\n  File \"/home/feng/.local/lib/python2.7/site-packages/pymisca/header.py\", line 104, in execBaseFile\n    res = execfile(fname, g, g)\n  File \"/home/feng/envs/CAMICE/headers/header__import.py\", line 8, in <module>\n    import synotil.dio as sdio;reload(sdio)\n  File \"/home/feng/.local/lib/python2.7/site-packages/synotil/dio.py\", line 3, in <module>\n    import CountMatrix as scount\n  File \"/home/feng/.local/lib/python2.7/site-packages/synotil/CountMatrix.py\", line 4, in <module>\n    import pymisca.util as pyutil\n  File \"/home/feng/.local/lib/python2.7/site-packages/pymisca/util.py\", line 16, in <module>\n    import matplotlib.pyplot as plt\n  File \"/home/feng/.local/lib/python2.7/site-packages/matplotlib/pyplot.py\", line 71, in <module>\n    from matplotlib.backends import pylab_setup\n  File \"/home/feng/.local/lib/python2.7/site-packages/matplotlib/backends/__init__.py\", line 16, in <module>\n    line for line in traceback.format_stack()\n\n\n\nis in ipython: 0 \nis in ipython: 0 \n[BASE]=/home/feng/envs/CAMICE\n[WARN] Cannot find file:key.gene\n[WARN] Cannot find file:key.gene\nTraceback (most recent call last):\n  File \"/home/feng/envs/CAMICE/.scripts/2019-05-01T00:12:18.842705/0501-poplar-chiptargpeak.py\", line 9, in <module>\n    rnaCurr = pyext.readData('meta/src/0424-rnacurr-poplar-dapseq.tsv')\n  File \"/home/feng/.local/lib/python2.7/site-packages/pymisca/ext.py\", line 1012, in readData\n    res,ext = case(ext)\n  File \"/home/feng/.local/lib/python2.7/site-packages/pymisca/ext.py\", line 964, in case\n    res = pd.read_table(fname, comment = comment, **kwargs)\n  File \"/home/feng/.local/lib/python2.7/site-packages/pandas/io/parsers.py\", line 678, in parser_f\n    return _read(filepath_or_buffer, kwds)\n  File \"/home/feng/.local/lib/python2.7/site-packages/pandas/io/parsers.py\", line 440, in _read\n    parser = TextFileReader(filepath_or_buffer, **kwds)\n  File \"/home/feng/.local/lib/python2.7/site-packages/pandas/io/parsers.py\", line 787, in __init__\n    self._make_engine(self.engine)\n  File \"/home/feng/.local/lib/python2.7/site-packages/pandas/io/parsers.py\", line 1014, in _make_engine\n    self._engine = CParserWrapper(self.f, **self.options)\n  File \"/home/feng/.local/lib/python2.7/site-packages/pandas/io/parsers.py\", line 1708, in __init__\n    self._reader = parsers.TextReader(src, **kwds)\n  File \"pandas/_libs/parsers.pyx\", line 384, in pandas._libs.parsers.TextReader.__cinit__\n  File \"pandas/_libs/parsers.pyx\", line 695, in pandas._libs.parsers.TextReader._setup_parser_source\nIOError: File meta/src/0424-rnacurr-poplar-dapseq.tsv does not exist\n"
     ]
    }
   ],
   "source": [
    "\n",
    "Unnamed: 0\tchrom\tstart\tend\tacc\tscore\tstrand\tFC\tneglogPval\tneglogQval\tsummit\tfeat_acc\tdistance\tBest-hit-arabi-name\tarabi-symbol\tarabi-defline\n",
    "1201\t2302\tChr05\t21321143\t21321144\tpoplar-11_S24_raw_bowtie2_PopTremAlba_nomixed_...\t162\t.\t7.56715\t16.20111\t12.48449\t21321143\tPotri.005G196700\t206\tAT1G22770.1\tFB,GI\tgigantea protein (GI)pyext.job__safeScriptCMD('0501-poplar/0501-poplar-chiptargpeak.py')"
   ]
  },
  {
   "cell_type": "code",
   "execution_count": 74,
   "metadata": {},
   "outputs": [
    {
     "name": "stdout",
     "output_type": "stream",
     "text": [
      "Chr01\t8927\t8929\tPtaLHY2-Potri014G106800--S24-166C-_S24_raw_bowtie2_PopTremAlba_nomixed_sorted_rmdup_picard_peak_2\t188\t.\t8.043389999999999\t18.81061\t15.538179999999999\t8928\t3.861918820702396\r\n",
      "Chr01\t33139\t33141\tPtaLHY2-Potri014G106800--S24-166C-_S24_raw_bowtie2_PopTremAlba_nomixed_sorted_rmdup_picard_peak_10\t149\t.\t7.3411\t14.91572\t12.0004\t33140\t3.128701464057401\r\n",
      "Chr01\t90390\t90392\tPtaLHY2-Potri014G106800--S24-166C-_S24_raw_bowtie2_PopTremAlba_nomixed_sorted_rmdup_picard_peak_27\t135\t.\t6.56522\t13.52542\t10.73424\t90391\t2.7883688480624604\r\n",
      "Chr01\t112336\t112338\tPtaLHY2-Potri014G106800--S24-166C-_S24_raw_bowtie2_PopTremAlba_nomixed_sorted_rmdup_picard_peak_35\t133\t.\t6.87265\t13.390189999999999\t10.61983\t112337\t2.745361614527133\r\n",
      "Chr01\t122623\t122625\tPtaLHY2-Potri014G106800--S24-166C-_S24_raw_bowtie2_PopTremAlba_nomixed_sorted_rmdup_picard_peak_42\t143\t.\t7.0438\t14.39025\t11.52435\t122624\t2.3464579695194914\r\n",
      "Chr01\t130364\t130366\tPtaLHY2-Potri014G106800--S24-166C-_S24_raw_bowtie2_PopTremAlba_nomixed_sorted_rmdup_picard_peak_46\t211\t.\t8.65952\t21.15602\t17.66986\t130365\t2.4707420506375124\r\n",
      "Chr01\t185211\t185213\tPtaLHY2-Potri014G106800--S24-166C-_S24_raw_bowtie2_PopTremAlba_nomixed_sorted_rmdup_picard_peak_68\t139\t.\t6.6052100000000005\t13.947729999999998\t11.113389999999999\t185212\t3.507583434365748\r\n",
      "Chr01\t207417\t207419\tPtaLHY2-Potri014G106800--S24-166C-_S24_raw_bowtie2_PopTremAlba_nomixed_sorted_rmdup_picard_peak_77\t135\t.\t6.375\t13.51421\t10.72327\t207418\t2.108728284007757\r\n",
      "Chr01\t222301\t222303\tPtaLHY2-Potri014G106800--S24-166C-_S24_raw_bowtie2_PopTremAlba_nomixed_sorted_rmdup_picard_peak_82\t151\t.\t7.674469999999999\t15.1204\t12.19735\t222302\t5.574154591496802\r\n",
      "Chr01\t268818\t268820\tPtaLHY2-Potri014G106800--S24-166C-_S24_raw_bowtie2_PopTremAlba_nomixed_sorted_rmdup_picard_peak_98\t150\t.\t6.48036\t15.059529999999999\t12.13798\t268819\t3.4999563314056603\r\n"
     ]
    }
   ],
   "source": [
    "# ! head output/*.bed"
   ]
  },
  {
   "cell_type": "code",
   "execution_count": 19,
   "metadata": {},
   "outputs": [
    {
     "name": "stdout",
     "output_type": "stream",
     "text": [
      "Script is being sourced\n",
      "$BASH_SOURCE /home/feng/envs/pipeline_bulk/bin/activate\n",
      "/home/feng/envs/pipeline_bulk/bin\n",
      "[SOURCE]ing [UTILITIES] from /home/feng/envs/pipeline_bulk/bin/util.sh\n",
      "Adding /home/feng/envs/pipeline_bulk to PATH\n",
      "[Test] FA_GENOME=/home/feng/ref/sPta717-v1-1/genome.fa\n",
      "[Test] GTF=/home/feng/ref/sPta717-v1-1/annotation/sPta717_v1.1.gene_fixed.gtf\n",
      "[Test] GSIZE=/home/feng/ref/sPta717-v1-1/genome.sizes\n",
      "[Test] FA_ADAPTER_SE=/home/feng/ref/adapters/TruSeq3-SE.fa\n",
      "[Test] FA_ADAPTER_PE=/home/feng/ref/adapters/TruSeq3-PE-all.fa\n",
      "[Test] REF=/home/feng/ref/sPta717-v1-1\n",
      "[Test] IDX_BOWTIE2=/home/feng/ref/sPta717-v1-1/sequence/Bowtie2Index/genome\n",
      "-rwxrwxr-x 1 feng feng 145265807 Oct 26  2018 /home/feng/ref/sPta717-v1-1/sequence/Bowtie2Index/genome.1.bt2\n",
      "CHIPREF=/home/feng/writable/teamkj/__backup/mapped-data/ChIP-seq/Mapped_data/174C/INPUT-poplar_S20/INPUT-poplar_S20_raw_bowtie2_PopTremAlba_nomixed_sorted_rmdup_picard.bam\n",
      "/home/feng/writable/teamkj/__backup/mapped-data/ChIP-seq/Mapped_data/174C/PtaLHY2-Potri014G106800--S24-166C-_S24\n",
      "CHIPREF=/home/feng/writable/teamkj/__backup/mapped-data/ChIP-seq/Mapped_data/174C/INPUT-poplar_S20/INPUT-poplar_S20_raw_bowtie2_PopTremAlba_nomixed_sorted_rmdup_picard.bam\n",
      "/home/feng/writable/teamkj/__backup/mapped-data/ChIP-seq/Mapped_data/174C/INPUT-poplar_S20\n",
      "CHIPREF=/home/feng/writable/teamkj/__backup/mapped-data/ChIP-seq/Mapped_data/174C/INPUT-poplar_S20/INPUT-poplar_S20_raw_bowtie2_PopTremAlba_nomixed_sorted_rmdup_picard.bam\n",
      "/home/feng/writable/teamkj/__backup/mapped-data/ChIP-seq/Mapped_data/175C/INPUT-POPLAR_S6\n",
      "CHIPREF=/home/feng/writable/teamkj/__backup/mapped-data/ChIP-seq/Mapped_data/174C/INPUT-poplar_S20/INPUT-poplar_S20_raw_bowtie2_PopTremAlba_nomixed_sorted_rmdup_picard.bam\n",
      "/home/feng/writable/teamkj/__backup/mapped-data/ChIP-seq/Mapped_data/166C/poplar-11_S24\n"
     ]
    },
    {
     "name": "stderr",
     "output_type": "stream",
     "text": [
      "ls: cannot access '/home/feng/ref/sPta717-v1-1/sequence/HISAT2Index/*': No such file or directory\n"
     ]
    }
   ],
   "source": [
    "%%bash\n",
    "main(){\n",
    "export PATH=\"$PATH:/home/feng/envs/pipeline_bulk/bin\"\n",
    ". activate\n",
    ". config_sPta717-v1-1.sh\n",
    "    export CHIPREF=/home/feng/writable/teamkj/__backup/mapped-data/ChIP-seq/Mapped_data/174C/INPUT-poplar_S20/INPUT-poplar_S20_raw_bowtie2_PopTremAlba_nomixed_sorted_rmdup_picard.bam\n",
    "    parallel --gnu -j6 pipeline_callpeak_inplace.sh < BAMFILES | tee callpeak.log\n",
    "#parallel -j6 pipeline_callpeak_inplace.sh < BAMFILES > callpeak.log&\n",
    "#done\n",
    "}\n",
    "main \"$@\"\n",
    "\n"
   ]
  },
  {
   "cell_type": "code",
   "execution_count": 24,
   "metadata": {},
   "outputs": [
    {
     "name": "stdout",
     "output_type": "stream",
     "text": [
      "/home/feng/writable/teamkj/__backup/mapped-data/ChIP-seq/Mapped_data/166C/poplar-11_S24/poplar-11_S24_raw_bowtie2_PopTremAlba_nomixed_sorted_rmdup_picard_peaks.narrowPeak\n"
     ]
    }
   ],
   "source": [
    "d = '/home/feng/writable/teamkj/__backup/mapped-data/ChIP-seq/Mapped_data/166C/poplar-11_S24'\n",
    "with pyext.FrozenPath(d) as d:\n",
    "    npkFile = d.glob('*.narrowPeak')[0]\n",
    "    \n"
   ]
  },
  {
   "cell_type": "code",
   "execution_count": 29,
   "metadata": {},
   "outputs": [
    {
     "name": "stdout",
     "output_type": "stream",
     "text": [
      "total 1.2G\r\n",
      "-rwxrwxr-x 2 feng feng 421M Oct 26  2018 \u001b[0m\u001b[01;32mPopTremAlba.fa\u001b[0m*\r\n",
      "-rwxrwxr-x 2 feng feng 421M Oct 26  2018 \u001b[01;32mgenome.fa\u001b[0m*\r\n",
      "-rwxrwxr-x 1 feng feng  80M Oct 26  2018 \u001b[01;32msPta717_v1.1.gene.gff3\u001b[0m*\r\n",
      "-rwxrwxr-x 1 feng feng  27K Oct 26  2018 \u001b[01;32mChrInfo_PopTremAlba.txt\u001b[0m*\r\n",
      "-rwxrwxr-x 1 feng feng  81M Oct 26  2018 \u001b[01;32msPta717_v1.1.gene_fixed.gff3.txt\u001b[0m*\r\n",
      "-rwxrwxr-x 2 feng feng  62M Oct 26  2018 \u001b[01;32msPta717_v1.1.gene_fixed.gtf\u001b[0m*\r\n",
      "-rwxrwxr-x 1 feng feng  27K Oct 26  2018 \u001b[01;32mChromInfo.txt\u001b[0m*\r\n",
      "-rwxrwxr-x 1 feng feng  50K Oct 26  2018 \u001b[01;32mPopTremAlba.fa.fai\u001b[0m*\r\n",
      "-rwxrwxr-x 1 feng feng  98M Oct 26  2018 \u001b[01;32mPoplar.bed\u001b[0m*\r\n",
      "-rwxrwxr-x 1 feng feng 2.7M Oct 26  2018 \u001b[01;32mPoplar_AnnotationInfoSheet.txt\u001b[0m*\r\n",
      "-rw-rw-r-- 1 feng feng  50K Oct 26  2018 genome.fa.fai\r\n",
      "-rw-rw-r-- 1 feng feng  27K Oct 26  2018 genome.sizes\r\n",
      "-rwxrwxr-x 1 feng feng    0 Oct 26  2018 \u001b[01;32msPta717_v1.1.gene.gtf\u001b[0m*\r\n",
      "-rw-rw-r-- 1 feng feng    0 Oct 26  2018 tmp\r\n",
      "-rw-rw-r-- 1 feng feng    0 Oct 26  2018 sPta717_v1.1.gene_fixed.gtf.cds\r\n",
      "-rw-rw-r-- 1 feng feng   87 Oct 28  2018 info.txt\r\n",
      "drwxrwxr-x 2 feng feng 4.0K Oct 28  2018 \u001b[01;34mannotation\u001b[0m/\r\n",
      "drwxrwxr-x 3 feng feng 4.0K Oct 28  2018 \u001b[01;34msequence\u001b[0m/\r\n"
     ]
    }
   ],
   "source": [
    "ls /home/feng/ref/sPta717-v1-1/ -lhtr"
   ]
  },
  {
   "cell_type": "code",
   "execution_count": 31,
   "metadata": {},
   "outputs": [],
   "source": [
    "# ! head /home/feng/ref/"
   ]
  },
  {
   "cell_type": "code",
   "execution_count": null,
   "metadata": {},
   "outputs": [],
   "source": [
    "def worker():\n",
    "    CHIPREF='/home/feng/writable/teamkj/__backup/mapped-data/ChIP-seq/Mapped_data/174C/INPUT-poplar_S20/INPUT-poplar_S20_raw_bowtie2_PopTremAlba_nomixed_sorted_rmdup_picard.bam'\n",
    "    CMD=''\n",
    "    "
   ]
  },
  {
   "cell_type": "code",
   "execution_count": 16,
   "metadata": {},
   "outputs": [],
   "source": [
    "mcurr = mcurr.query('DATAACC in @rnaCurr.index')\n",
    "mcurr.query('EXT==\"bam\"')[[]].to_csv('BAMFILES',header=None)\n"
   ]
  }
 ],
 "metadata": {
  "kernelspec": {
   "display_name": "Python 2",
   "language": "python",
   "name": "python2"
  },
  "language_info": {
   "codemirror_mode": {
    "name": "ipython",
    "version": 2
   },
   "file_extension": ".py",
   "mimetype": "text/x-python",
   "name": "python",
   "nbconvert_exporter": "python",
   "pygments_lexer": "ipython2",
   "version": "2.7.12"
  }
 },
 "nbformat": 4,
 "nbformat_minor": 2
}
